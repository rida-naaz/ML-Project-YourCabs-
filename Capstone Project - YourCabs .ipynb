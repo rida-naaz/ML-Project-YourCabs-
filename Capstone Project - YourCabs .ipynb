{
 "cells": [
  {
   "cell_type": "markdown",
   "id": "fffc0a4c",
   "metadata": {},
   "source": [
    "# Data Preprocessing"
   ]
  },
  {
   "cell_type": "code",
   "execution_count": 1,
   "id": "cba6ebfd",
   "metadata": {},
   "outputs": [],
   "source": [
    "#importing relevant libraries\n",
    "import pandas as pd\n",
    "import numpy as np\n",
    "import seaborn as sns \n",
    "import matplotlib.pyplot as plt"
   ]
  },
  {
   "cell_type": "code",
   "execution_count": 2,
   "id": "a9a200ee",
   "metadata": {},
   "outputs": [
    {
     "data": {
      "text/html": [
       "<div>\n",
       "<style scoped>\n",
       "    .dataframe tbody tr th:only-of-type {\n",
       "        vertical-align: middle;\n",
       "    }\n",
       "\n",
       "    .dataframe tbody tr th {\n",
       "        vertical-align: top;\n",
       "    }\n",
       "\n",
       "    .dataframe thead th {\n",
       "        text-align: right;\n",
       "    }\n",
       "</style>\n",
       "<table border=\"1\" class=\"dataframe\">\n",
       "  <thead>\n",
       "    <tr style=\"text-align: right;\">\n",
       "      <th></th>\n",
       "      <th>id</th>\n",
       "      <th>user_id</th>\n",
       "      <th>vehicle_model_id</th>\n",
       "      <th>package_id</th>\n",
       "      <th>travel_type_id</th>\n",
       "      <th>from_area_id</th>\n",
       "      <th>to_area_id</th>\n",
       "      <th>from_city_id</th>\n",
       "      <th>to_city_id</th>\n",
       "      <th>from_date</th>\n",
       "      <th>to_date</th>\n",
       "      <th>online_booking</th>\n",
       "      <th>mobile_site_booking</th>\n",
       "      <th>booking_created</th>\n",
       "      <th>from_lat</th>\n",
       "      <th>from_long</th>\n",
       "      <th>to_lat</th>\n",
       "      <th>to_long</th>\n",
       "      <th>Car_Cancellation</th>\n",
       "    </tr>\n",
       "  </thead>\n",
       "  <tbody>\n",
       "    <tr>\n",
       "      <th>0</th>\n",
       "      <td>132512</td>\n",
       "      <td>22177</td>\n",
       "      <td>28</td>\n",
       "      <td>NaN</td>\n",
       "      <td>2</td>\n",
       "      <td>83.0</td>\n",
       "      <td>448.0</td>\n",
       "      <td>NaN</td>\n",
       "      <td>NaN</td>\n",
       "      <td>1/1/2013 2:00</td>\n",
       "      <td>NaN</td>\n",
       "      <td>0</td>\n",
       "      <td>0</td>\n",
       "      <td>1/1/2013 1:39</td>\n",
       "      <td>12.924150</td>\n",
       "      <td>77.672290</td>\n",
       "      <td>12.927320</td>\n",
       "      <td>77.635750</td>\n",
       "      <td>0</td>\n",
       "    </tr>\n",
       "    <tr>\n",
       "      <th>1</th>\n",
       "      <td>132513</td>\n",
       "      <td>21413</td>\n",
       "      <td>12</td>\n",
       "      <td>NaN</td>\n",
       "      <td>2</td>\n",
       "      <td>1010.0</td>\n",
       "      <td>540.0</td>\n",
       "      <td>NaN</td>\n",
       "      <td>NaN</td>\n",
       "      <td>1/1/2013 9:00</td>\n",
       "      <td>NaN</td>\n",
       "      <td>0</td>\n",
       "      <td>0</td>\n",
       "      <td>1/1/2013 2:25</td>\n",
       "      <td>12.966910</td>\n",
       "      <td>77.749350</td>\n",
       "      <td>12.927680</td>\n",
       "      <td>77.626640</td>\n",
       "      <td>0</td>\n",
       "    </tr>\n",
       "    <tr>\n",
       "      <th>2</th>\n",
       "      <td>132514</td>\n",
       "      <td>22178</td>\n",
       "      <td>12</td>\n",
       "      <td>NaN</td>\n",
       "      <td>2</td>\n",
       "      <td>1301.0</td>\n",
       "      <td>1034.0</td>\n",
       "      <td>NaN</td>\n",
       "      <td>NaN</td>\n",
       "      <td>1/1/2013 3:30</td>\n",
       "      <td>NaN</td>\n",
       "      <td>0</td>\n",
       "      <td>0</td>\n",
       "      <td>1/1/2013 3:08</td>\n",
       "      <td>12.937222</td>\n",
       "      <td>77.626915</td>\n",
       "      <td>13.047926</td>\n",
       "      <td>77.597766</td>\n",
       "      <td>0</td>\n",
       "    </tr>\n",
       "    <tr>\n",
       "      <th>3</th>\n",
       "      <td>132515</td>\n",
       "      <td>13034</td>\n",
       "      <td>12</td>\n",
       "      <td>NaN</td>\n",
       "      <td>2</td>\n",
       "      <td>768.0</td>\n",
       "      <td>398.0</td>\n",
       "      <td>NaN</td>\n",
       "      <td>NaN</td>\n",
       "      <td>1/1/2013 5:45</td>\n",
       "      <td>NaN</td>\n",
       "      <td>0</td>\n",
       "      <td>0</td>\n",
       "      <td>1/1/2013 4:39</td>\n",
       "      <td>12.989990</td>\n",
       "      <td>77.553320</td>\n",
       "      <td>12.971430</td>\n",
       "      <td>77.639140</td>\n",
       "      <td>0</td>\n",
       "    </tr>\n",
       "    <tr>\n",
       "      <th>4</th>\n",
       "      <td>132517</td>\n",
       "      <td>22180</td>\n",
       "      <td>12</td>\n",
       "      <td>NaN</td>\n",
       "      <td>2</td>\n",
       "      <td>1365.0</td>\n",
       "      <td>849.0</td>\n",
       "      <td>NaN</td>\n",
       "      <td>NaN</td>\n",
       "      <td>1/1/2013 9:00</td>\n",
       "      <td>NaN</td>\n",
       "      <td>0</td>\n",
       "      <td>0</td>\n",
       "      <td>1/1/2013 7:53</td>\n",
       "      <td>12.845653</td>\n",
       "      <td>77.677925</td>\n",
       "      <td>12.954340</td>\n",
       "      <td>77.600720</td>\n",
       "      <td>0</td>\n",
       "    </tr>\n",
       "    <tr>\n",
       "      <th>5</th>\n",
       "      <td>132518</td>\n",
       "      <td>17712</td>\n",
       "      <td>12</td>\n",
       "      <td>NaN</td>\n",
       "      <td>2</td>\n",
       "      <td>1021.0</td>\n",
       "      <td>1323.0</td>\n",
       "      <td>NaN</td>\n",
       "      <td>NaN</td>\n",
       "      <td>1/1/2013 22:30</td>\n",
       "      <td>NaN</td>\n",
       "      <td>0</td>\n",
       "      <td>0</td>\n",
       "      <td>1/1/2013 8:01</td>\n",
       "      <td>13.028530</td>\n",
       "      <td>77.546250</td>\n",
       "      <td>12.869805</td>\n",
       "      <td>77.653211</td>\n",
       "      <td>0</td>\n",
       "    </tr>\n",
       "    <tr>\n",
       "      <th>6</th>\n",
       "      <td>132519</td>\n",
       "      <td>22172</td>\n",
       "      <td>12</td>\n",
       "      <td>NaN</td>\n",
       "      <td>1</td>\n",
       "      <td>571.0</td>\n",
       "      <td>NaN</td>\n",
       "      <td>15.0</td>\n",
       "      <td>108.0</td>\n",
       "      <td>1/1/2013 9:45</td>\n",
       "      <td>41275.40625</td>\n",
       "      <td>0</td>\n",
       "      <td>0</td>\n",
       "      <td>1/1/2013 9:21</td>\n",
       "      <td>12.951850</td>\n",
       "      <td>77.696420</td>\n",
       "      <td>NaN</td>\n",
       "      <td>NaN</td>\n",
       "      <td>0</td>\n",
       "    </tr>\n",
       "    <tr>\n",
       "      <th>7</th>\n",
       "      <td>132520</td>\n",
       "      <td>22181</td>\n",
       "      <td>12</td>\n",
       "      <td>NaN</td>\n",
       "      <td>2</td>\n",
       "      <td>1192.0</td>\n",
       "      <td>832.0</td>\n",
       "      <td>NaN</td>\n",
       "      <td>NaN</td>\n",
       "      <td>1/1/2013 11:00</td>\n",
       "      <td>NaN</td>\n",
       "      <td>0</td>\n",
       "      <td>0</td>\n",
       "      <td>1/1/2013 9:39</td>\n",
       "      <td>12.976770</td>\n",
       "      <td>77.572700</td>\n",
       "      <td>12.880190</td>\n",
       "      <td>77.645580</td>\n",
       "      <td>0</td>\n",
       "    </tr>\n",
       "    <tr>\n",
       "      <th>8</th>\n",
       "      <td>132521</td>\n",
       "      <td>22182</td>\n",
       "      <td>65</td>\n",
       "      <td>2.0</td>\n",
       "      <td>3</td>\n",
       "      <td>448.0</td>\n",
       "      <td>NaN</td>\n",
       "      <td>NaN</td>\n",
       "      <td>NaN</td>\n",
       "      <td>1/1/2013 16:00</td>\n",
       "      <td>NaN</td>\n",
       "      <td>0</td>\n",
       "      <td>0</td>\n",
       "      <td>1/1/2013 9:44</td>\n",
       "      <td>12.927320</td>\n",
       "      <td>77.635750</td>\n",
       "      <td>NaN</td>\n",
       "      <td>NaN</td>\n",
       "      <td>0</td>\n",
       "    </tr>\n",
       "    <tr>\n",
       "      <th>9</th>\n",
       "      <td>132522</td>\n",
       "      <td>22184</td>\n",
       "      <td>12</td>\n",
       "      <td>NaN</td>\n",
       "      <td>2</td>\n",
       "      <td>516.0</td>\n",
       "      <td>376.0</td>\n",
       "      <td>NaN</td>\n",
       "      <td>NaN</td>\n",
       "      <td>1/1/2013 11:00</td>\n",
       "      <td>NaN</td>\n",
       "      <td>0</td>\n",
       "      <td>0</td>\n",
       "      <td>1/1/2013 9:49</td>\n",
       "      <td>13.005600</td>\n",
       "      <td>77.657990</td>\n",
       "      <td>12.902450</td>\n",
       "      <td>77.660810</td>\n",
       "      <td>0</td>\n",
       "    </tr>\n",
       "  </tbody>\n",
       "</table>\n",
       "</div>"
      ],
      "text/plain": [
       "       id  user_id  vehicle_model_id  package_id  travel_type_id  \\\n",
       "0  132512    22177                28         NaN               2   \n",
       "1  132513    21413                12         NaN               2   \n",
       "2  132514    22178                12         NaN               2   \n",
       "3  132515    13034                12         NaN               2   \n",
       "4  132517    22180                12         NaN               2   \n",
       "5  132518    17712                12         NaN               2   \n",
       "6  132519    22172                12         NaN               1   \n",
       "7  132520    22181                12         NaN               2   \n",
       "8  132521    22182                65         2.0               3   \n",
       "9  132522    22184                12         NaN               2   \n",
       "\n",
       "   from_area_id  to_area_id  from_city_id  to_city_id       from_date  \\\n",
       "0          83.0       448.0           NaN         NaN   1/1/2013 2:00   \n",
       "1        1010.0       540.0           NaN         NaN   1/1/2013 9:00   \n",
       "2        1301.0      1034.0           NaN         NaN   1/1/2013 3:30   \n",
       "3         768.0       398.0           NaN         NaN   1/1/2013 5:45   \n",
       "4        1365.0       849.0           NaN         NaN   1/1/2013 9:00   \n",
       "5        1021.0      1323.0           NaN         NaN  1/1/2013 22:30   \n",
       "6         571.0         NaN          15.0       108.0   1/1/2013 9:45   \n",
       "7        1192.0       832.0           NaN         NaN  1/1/2013 11:00   \n",
       "8         448.0         NaN           NaN         NaN  1/1/2013 16:00   \n",
       "9         516.0       376.0           NaN         NaN  1/1/2013 11:00   \n",
       "\n",
       "       to_date  online_booking  mobile_site_booking booking_created  \\\n",
       "0          NaN               0                    0   1/1/2013 1:39   \n",
       "1          NaN               0                    0   1/1/2013 2:25   \n",
       "2          NaN               0                    0   1/1/2013 3:08   \n",
       "3          NaN               0                    0   1/1/2013 4:39   \n",
       "4          NaN               0                    0   1/1/2013 7:53   \n",
       "5          NaN               0                    0   1/1/2013 8:01   \n",
       "6  41275.40625               0                    0   1/1/2013 9:21   \n",
       "7          NaN               0                    0   1/1/2013 9:39   \n",
       "8          NaN               0                    0   1/1/2013 9:44   \n",
       "9          NaN               0                    0   1/1/2013 9:49   \n",
       "\n",
       "    from_lat  from_long     to_lat    to_long  Car_Cancellation  \n",
       "0  12.924150  77.672290  12.927320  77.635750                 0  \n",
       "1  12.966910  77.749350  12.927680  77.626640                 0  \n",
       "2  12.937222  77.626915  13.047926  77.597766                 0  \n",
       "3  12.989990  77.553320  12.971430  77.639140                 0  \n",
       "4  12.845653  77.677925  12.954340  77.600720                 0  \n",
       "5  13.028530  77.546250  12.869805  77.653211                 0  \n",
       "6  12.951850  77.696420        NaN        NaN                 0  \n",
       "7  12.976770  77.572700  12.880190  77.645580                 0  \n",
       "8  12.927320  77.635750        NaN        NaN                 0  \n",
       "9  13.005600  77.657990  12.902450  77.660810                 0  "
      ]
     },
     "execution_count": 2,
     "metadata": {},
     "output_type": "execute_result"
    }
   ],
   "source": [
    "#Extracting dataset\n",
    "df = pd.read_csv(\"YourCabs.csv\")\n",
    "df.head(10)"
   ]
  },
  {
   "cell_type": "code",
   "execution_count": 3,
   "id": "d283d6cf",
   "metadata": {},
   "outputs": [
    {
     "name": "stdout",
     "output_type": "stream",
     "text": [
      "<class 'pandas.core.frame.DataFrame'>\n",
      "RangeIndex: 43431 entries, 0 to 43430\n",
      "Data columns (total 19 columns):\n",
      " #   Column               Non-Null Count  Dtype  \n",
      "---  ------               --------------  -----  \n",
      " 0   id                   43431 non-null  int64  \n",
      " 1   user_id              43431 non-null  int64  \n",
      " 2   vehicle_model_id     43431 non-null  int64  \n",
      " 3   package_id           7550 non-null   float64\n",
      " 4   travel_type_id       43431 non-null  int64  \n",
      " 5   from_area_id         43343 non-null  float64\n",
      " 6   to_area_id           34293 non-null  float64\n",
      " 7   from_city_id         16345 non-null  float64\n",
      " 8   to_city_id           1588 non-null   float64\n",
      " 9   from_date            43431 non-null  object \n",
      " 10  to_date              25541 non-null  float64\n",
      " 11  online_booking       43431 non-null  int64  \n",
      " 12  mobile_site_booking  43431 non-null  int64  \n",
      " 13  booking_created      43431 non-null  object \n",
      " 14  from_lat             43338 non-null  float64\n",
      " 15  from_long            43338 non-null  float64\n",
      " 16  to_lat               34293 non-null  float64\n",
      " 17  to_long              34293 non-null  float64\n",
      " 18  Car_Cancellation     43431 non-null  int64  \n",
      "dtypes: float64(10), int64(7), object(2)\n",
      "memory usage: 6.3+ MB\n"
     ]
    }
   ],
   "source": [
    "df.info()"
   ]
  },
  {
   "cell_type": "code",
   "execution_count": 4,
   "id": "aa855341",
   "metadata": {},
   "outputs": [
    {
     "data": {
      "text/plain": [
       "(43431, 19)"
      ]
     },
     "execution_count": 4,
     "metadata": {},
     "output_type": "execute_result"
    }
   ],
   "source": [
    "df.shape"
   ]
  },
  {
   "cell_type": "code",
   "execution_count": 5,
   "id": "80dcd27f",
   "metadata": {},
   "outputs": [
    {
     "data": {
      "text/plain": [
       "id                         0\n",
       "user_id                    0\n",
       "vehicle_model_id           0\n",
       "package_id             35881\n",
       "travel_type_id             0\n",
       "from_area_id              88\n",
       "to_area_id              9138\n",
       "from_city_id           27086\n",
       "to_city_id             41843\n",
       "from_date                  0\n",
       "to_date                17890\n",
       "online_booking             0\n",
       "mobile_site_booking        0\n",
       "booking_created            0\n",
       "from_lat                  93\n",
       "from_long                 93\n",
       "to_lat                  9138\n",
       "to_long                 9138\n",
       "Car_Cancellation           0\n",
       "dtype: int64"
      ]
     },
     "execution_count": 5,
     "metadata": {},
     "output_type": "execute_result"
    }
   ],
   "source": [
    "df.isnull().sum()"
   ]
  },
  {
   "cell_type": "markdown",
   "id": "a2af7aea",
   "metadata": {},
   "source": [
    "# Splitting Data into Train and Test Data"
   ]
  },
  {
   "cell_type": "code",
   "execution_count": 6,
   "id": "0921999e",
   "metadata": {},
   "outputs": [
    {
     "data": {
      "text/html": [
       "<div>\n",
       "<style scoped>\n",
       "    .dataframe tbody tr th:only-of-type {\n",
       "        vertical-align: middle;\n",
       "    }\n",
       "\n",
       "    .dataframe tbody tr th {\n",
       "        vertical-align: top;\n",
       "    }\n",
       "\n",
       "    .dataframe thead th {\n",
       "        text-align: right;\n",
       "    }\n",
       "</style>\n",
       "<table border=\"1\" class=\"dataframe\">\n",
       "  <thead>\n",
       "    <tr style=\"text-align: right;\">\n",
       "      <th></th>\n",
       "      <th>user_id</th>\n",
       "      <th>vehicle_model_id</th>\n",
       "      <th>package_id</th>\n",
       "      <th>travel_type_id</th>\n",
       "      <th>from_area_id</th>\n",
       "      <th>to_area_id</th>\n",
       "      <th>from_city_id</th>\n",
       "      <th>to_city_id</th>\n",
       "      <th>from_date</th>\n",
       "      <th>to_date</th>\n",
       "      <th>online_booking</th>\n",
       "      <th>mobile_site_booking</th>\n",
       "      <th>booking_created</th>\n",
       "      <th>from_lat</th>\n",
       "      <th>from_long</th>\n",
       "      <th>to_lat</th>\n",
       "      <th>to_long</th>\n",
       "    </tr>\n",
       "  </thead>\n",
       "  <tbody>\n",
       "    <tr>\n",
       "      <th>0</th>\n",
       "      <td>22177</td>\n",
       "      <td>28</td>\n",
       "      <td>NaN</td>\n",
       "      <td>2</td>\n",
       "      <td>83.0</td>\n",
       "      <td>448.0</td>\n",
       "      <td>NaN</td>\n",
       "      <td>NaN</td>\n",
       "      <td>1/1/2013 2:00</td>\n",
       "      <td>NaN</td>\n",
       "      <td>0</td>\n",
       "      <td>0</td>\n",
       "      <td>1/1/2013 1:39</td>\n",
       "      <td>12.924150</td>\n",
       "      <td>77.672290</td>\n",
       "      <td>12.927320</td>\n",
       "      <td>77.635750</td>\n",
       "    </tr>\n",
       "    <tr>\n",
       "      <th>1</th>\n",
       "      <td>21413</td>\n",
       "      <td>12</td>\n",
       "      <td>NaN</td>\n",
       "      <td>2</td>\n",
       "      <td>1010.0</td>\n",
       "      <td>540.0</td>\n",
       "      <td>NaN</td>\n",
       "      <td>NaN</td>\n",
       "      <td>1/1/2013 9:00</td>\n",
       "      <td>NaN</td>\n",
       "      <td>0</td>\n",
       "      <td>0</td>\n",
       "      <td>1/1/2013 2:25</td>\n",
       "      <td>12.966910</td>\n",
       "      <td>77.749350</td>\n",
       "      <td>12.927680</td>\n",
       "      <td>77.626640</td>\n",
       "    </tr>\n",
       "    <tr>\n",
       "      <th>2</th>\n",
       "      <td>22178</td>\n",
       "      <td>12</td>\n",
       "      <td>NaN</td>\n",
       "      <td>2</td>\n",
       "      <td>1301.0</td>\n",
       "      <td>1034.0</td>\n",
       "      <td>NaN</td>\n",
       "      <td>NaN</td>\n",
       "      <td>1/1/2013 3:30</td>\n",
       "      <td>NaN</td>\n",
       "      <td>0</td>\n",
       "      <td>0</td>\n",
       "      <td>1/1/2013 3:08</td>\n",
       "      <td>12.937222</td>\n",
       "      <td>77.626915</td>\n",
       "      <td>13.047926</td>\n",
       "      <td>77.597766</td>\n",
       "    </tr>\n",
       "    <tr>\n",
       "      <th>3</th>\n",
       "      <td>13034</td>\n",
       "      <td>12</td>\n",
       "      <td>NaN</td>\n",
       "      <td>2</td>\n",
       "      <td>768.0</td>\n",
       "      <td>398.0</td>\n",
       "      <td>NaN</td>\n",
       "      <td>NaN</td>\n",
       "      <td>1/1/2013 5:45</td>\n",
       "      <td>NaN</td>\n",
       "      <td>0</td>\n",
       "      <td>0</td>\n",
       "      <td>1/1/2013 4:39</td>\n",
       "      <td>12.989990</td>\n",
       "      <td>77.553320</td>\n",
       "      <td>12.971430</td>\n",
       "      <td>77.639140</td>\n",
       "    </tr>\n",
       "    <tr>\n",
       "      <th>4</th>\n",
       "      <td>22180</td>\n",
       "      <td>12</td>\n",
       "      <td>NaN</td>\n",
       "      <td>2</td>\n",
       "      <td>1365.0</td>\n",
       "      <td>849.0</td>\n",
       "      <td>NaN</td>\n",
       "      <td>NaN</td>\n",
       "      <td>1/1/2013 9:00</td>\n",
       "      <td>NaN</td>\n",
       "      <td>0</td>\n",
       "      <td>0</td>\n",
       "      <td>1/1/2013 7:53</td>\n",
       "      <td>12.845653</td>\n",
       "      <td>77.677925</td>\n",
       "      <td>12.954340</td>\n",
       "      <td>77.600720</td>\n",
       "    </tr>\n",
       "    <tr>\n",
       "      <th>...</th>\n",
       "      <td>...</td>\n",
       "      <td>...</td>\n",
       "      <td>...</td>\n",
       "      <td>...</td>\n",
       "      <td>...</td>\n",
       "      <td>...</td>\n",
       "      <td>...</td>\n",
       "      <td>...</td>\n",
       "      <td>...</td>\n",
       "      <td>...</td>\n",
       "      <td>...</td>\n",
       "      <td>...</td>\n",
       "      <td>...</td>\n",
       "      <td>...</td>\n",
       "      <td>...</td>\n",
       "      <td>...</td>\n",
       "      <td>...</td>\n",
       "    </tr>\n",
       "    <tr>\n",
       "      <th>43426</th>\n",
       "      <td>14364</td>\n",
       "      <td>12</td>\n",
       "      <td>NaN</td>\n",
       "      <td>2</td>\n",
       "      <td>1147.0</td>\n",
       "      <td>452.0</td>\n",
       "      <td>15.0</td>\n",
       "      <td>NaN</td>\n",
       "      <td>11/24/2013 18:00</td>\n",
       "      <td>41602.82020</td>\n",
       "      <td>1</td>\n",
       "      <td>0</td>\n",
       "      <td>11/24/2013 14:25</td>\n",
       "      <td>13.030640</td>\n",
       "      <td>77.649100</td>\n",
       "      <td>12.952780</td>\n",
       "      <td>77.590880</td>\n",
       "    </tr>\n",
       "    <tr>\n",
       "      <th>43427</th>\n",
       "      <td>48727</td>\n",
       "      <td>12</td>\n",
       "      <td>NaN</td>\n",
       "      <td>2</td>\n",
       "      <td>393.0</td>\n",
       "      <td>466.0</td>\n",
       "      <td>15.0</td>\n",
       "      <td>NaN</td>\n",
       "      <td>11/26/2013 1:00</td>\n",
       "      <td>41604.08037</td>\n",
       "      <td>1</td>\n",
       "      <td>0</td>\n",
       "      <td>11/24/2013 14:30</td>\n",
       "      <td>13.199560</td>\n",
       "      <td>77.706880</td>\n",
       "      <td>13.017436</td>\n",
       "      <td>77.644580</td>\n",
       "    </tr>\n",
       "    <tr>\n",
       "      <th>43428</th>\n",
       "      <td>48729</td>\n",
       "      <td>12</td>\n",
       "      <td>1.0</td>\n",
       "      <td>3</td>\n",
       "      <td>974.0</td>\n",
       "      <td>NaN</td>\n",
       "      <td>15.0</td>\n",
       "      <td>NaN</td>\n",
       "      <td>11/24/2013 18:30</td>\n",
       "      <td>41602.97917</td>\n",
       "      <td>0</td>\n",
       "      <td>0</td>\n",
       "      <td>11/24/2013 14:35</td>\n",
       "      <td>13.075570</td>\n",
       "      <td>77.559040</td>\n",
       "      <td>NaN</td>\n",
       "      <td>NaN</td>\n",
       "    </tr>\n",
       "    <tr>\n",
       "      <th>43429</th>\n",
       "      <td>30724</td>\n",
       "      <td>87</td>\n",
       "      <td>NaN</td>\n",
       "      <td>2</td>\n",
       "      <td>1263.0</td>\n",
       "      <td>542.0</td>\n",
       "      <td>15.0</td>\n",
       "      <td>NaN</td>\n",
       "      <td>11/24/2013 16:00</td>\n",
       "      <td>41602.69495</td>\n",
       "      <td>0</td>\n",
       "      <td>0</td>\n",
       "      <td>11/24/2013 14:43</td>\n",
       "      <td>12.968970</td>\n",
       "      <td>77.594560</td>\n",
       "      <td>12.938230</td>\n",
       "      <td>77.622890</td>\n",
       "    </tr>\n",
       "    <tr>\n",
       "      <th>43430</th>\n",
       "      <td>48730</td>\n",
       "      <td>12</td>\n",
       "      <td>NaN</td>\n",
       "      <td>2</td>\n",
       "      <td>689.0</td>\n",
       "      <td>393.0</td>\n",
       "      <td>15.0</td>\n",
       "      <td>NaN</td>\n",
       "      <td>11/25/2013 5:00</td>\n",
       "      <td>41603.25385</td>\n",
       "      <td>0</td>\n",
       "      <td>1</td>\n",
       "      <td>11/24/2013 14:50</td>\n",
       "      <td>12.976720</td>\n",
       "      <td>77.649270</td>\n",
       "      <td>13.199560</td>\n",
       "      <td>77.706880</td>\n",
       "    </tr>\n",
       "  </tbody>\n",
       "</table>\n",
       "<p>43431 rows × 17 columns</p>\n",
       "</div>"
      ],
      "text/plain": [
       "       user_id  vehicle_model_id  package_id  travel_type_id  from_area_id  \\\n",
       "0        22177                28         NaN               2          83.0   \n",
       "1        21413                12         NaN               2        1010.0   \n",
       "2        22178                12         NaN               2        1301.0   \n",
       "3        13034                12         NaN               2         768.0   \n",
       "4        22180                12         NaN               2        1365.0   \n",
       "...        ...               ...         ...             ...           ...   \n",
       "43426    14364                12         NaN               2        1147.0   \n",
       "43427    48727                12         NaN               2         393.0   \n",
       "43428    48729                12         1.0               3         974.0   \n",
       "43429    30724                87         NaN               2        1263.0   \n",
       "43430    48730                12         NaN               2         689.0   \n",
       "\n",
       "       to_area_id  from_city_id  to_city_id         from_date      to_date  \\\n",
       "0           448.0           NaN         NaN     1/1/2013 2:00          NaN   \n",
       "1           540.0           NaN         NaN     1/1/2013 9:00          NaN   \n",
       "2          1034.0           NaN         NaN     1/1/2013 3:30          NaN   \n",
       "3           398.0           NaN         NaN     1/1/2013 5:45          NaN   \n",
       "4           849.0           NaN         NaN     1/1/2013 9:00          NaN   \n",
       "...           ...           ...         ...               ...          ...   \n",
       "43426       452.0          15.0         NaN  11/24/2013 18:00  41602.82020   \n",
       "43427       466.0          15.0         NaN   11/26/2013 1:00  41604.08037   \n",
       "43428         NaN          15.0         NaN  11/24/2013 18:30  41602.97917   \n",
       "43429       542.0          15.0         NaN  11/24/2013 16:00  41602.69495   \n",
       "43430       393.0          15.0         NaN   11/25/2013 5:00  41603.25385   \n",
       "\n",
       "       online_booking  mobile_site_booking   booking_created   from_lat  \\\n",
       "0                   0                    0     1/1/2013 1:39  12.924150   \n",
       "1                   0                    0     1/1/2013 2:25  12.966910   \n",
       "2                   0                    0     1/1/2013 3:08  12.937222   \n",
       "3                   0                    0     1/1/2013 4:39  12.989990   \n",
       "4                   0                    0     1/1/2013 7:53  12.845653   \n",
       "...               ...                  ...               ...        ...   \n",
       "43426               1                    0  11/24/2013 14:25  13.030640   \n",
       "43427               1                    0  11/24/2013 14:30  13.199560   \n",
       "43428               0                    0  11/24/2013 14:35  13.075570   \n",
       "43429               0                    0  11/24/2013 14:43  12.968970   \n",
       "43430               0                    1  11/24/2013 14:50  12.976720   \n",
       "\n",
       "       from_long     to_lat    to_long  \n",
       "0      77.672290  12.927320  77.635750  \n",
       "1      77.749350  12.927680  77.626640  \n",
       "2      77.626915  13.047926  77.597766  \n",
       "3      77.553320  12.971430  77.639140  \n",
       "4      77.677925  12.954340  77.600720  \n",
       "...          ...        ...        ...  \n",
       "43426  77.649100  12.952780  77.590880  \n",
       "43427  77.706880  13.017436  77.644580  \n",
       "43428  77.559040        NaN        NaN  \n",
       "43429  77.594560  12.938230  77.622890  \n",
       "43430  77.649270  13.199560  77.706880  \n",
       "\n",
       "[43431 rows x 17 columns]"
      ]
     },
     "execution_count": 6,
     "metadata": {},
     "output_type": "execute_result"
    }
   ],
   "source": [
    "X = df.iloc[:, 1:18]\n",
    "X"
   ]
  },
  {
   "cell_type": "code",
   "execution_count": 94,
   "id": "59eee664",
   "metadata": {},
   "outputs": [
    {
     "data": {
      "text/plain": [
       "array([[0],\n",
       "       [0],\n",
       "       [0],\n",
       "       ...,\n",
       "       [0],\n",
       "       [0],\n",
       "       [0]], dtype=int64)"
      ]
     },
     "execution_count": 94,
     "metadata": {},
     "output_type": "execute_result"
    }
   ],
   "source": [
    "Y = df[\"Car_Cancellation\"].values.reshape(-1,1)\n",
    "Y"
   ]
  },
  {
   "cell_type": "markdown",
   "id": "0c27c4a4",
   "metadata": {},
   "source": [
    "## Performing split operations"
   ]
  },
  {
   "cell_type": "code",
   "execution_count": 9,
   "id": "5d798328",
   "metadata": {},
   "outputs": [],
   "source": [
    "from sklearn.model_selection import train_test_split"
   ]
  },
  {
   "cell_type": "code",
   "execution_count": 95,
   "id": "545f997f",
   "metadata": {},
   "outputs": [],
   "source": [
    "xtrain, xtest, ytrain, ytest = train_test_split(X, Y, train_size= 0.70, random_state= 15)\n"
   ]
  },
  {
   "cell_type": "code",
   "execution_count": 11,
   "id": "489491fe",
   "metadata": {},
   "outputs": [
    {
     "data": {
      "text/html": [
       "<div>\n",
       "<style scoped>\n",
       "    .dataframe tbody tr th:only-of-type {\n",
       "        vertical-align: middle;\n",
       "    }\n",
       "\n",
       "    .dataframe tbody tr th {\n",
       "        vertical-align: top;\n",
       "    }\n",
       "\n",
       "    .dataframe thead th {\n",
       "        text-align: right;\n",
       "    }\n",
       "</style>\n",
       "<table border=\"1\" class=\"dataframe\">\n",
       "  <thead>\n",
       "    <tr style=\"text-align: right;\">\n",
       "      <th></th>\n",
       "      <th>user_id</th>\n",
       "      <th>vehicle_model_id</th>\n",
       "      <th>package_id</th>\n",
       "      <th>travel_type_id</th>\n",
       "      <th>from_area_id</th>\n",
       "      <th>to_area_id</th>\n",
       "      <th>from_city_id</th>\n",
       "      <th>to_city_id</th>\n",
       "      <th>from_date</th>\n",
       "      <th>to_date</th>\n",
       "      <th>online_booking</th>\n",
       "      <th>mobile_site_booking</th>\n",
       "      <th>booking_created</th>\n",
       "      <th>from_lat</th>\n",
       "      <th>from_long</th>\n",
       "      <th>to_lat</th>\n",
       "      <th>to_long</th>\n",
       "    </tr>\n",
       "  </thead>\n",
       "  <tbody>\n",
       "    <tr>\n",
       "      <th>12653</th>\n",
       "      <td>29419</td>\n",
       "      <td>12</td>\n",
       "      <td>NaN</td>\n",
       "      <td>2</td>\n",
       "      <td>393.0</td>\n",
       "      <td>376.0</td>\n",
       "      <td>NaN</td>\n",
       "      <td>NaN</td>\n",
       "      <td>5/8/2013 5:00</td>\n",
       "      <td>NaN</td>\n",
       "      <td>0</td>\n",
       "      <td>0</td>\n",
       "      <td>5/7/2013 22:20</td>\n",
       "      <td>13.19956</td>\n",
       "      <td>77.70688</td>\n",
       "      <td>12.902450</td>\n",
       "      <td>77.660810</td>\n",
       "    </tr>\n",
       "    <tr>\n",
       "      <th>7519</th>\n",
       "      <td>26861</td>\n",
       "      <td>85</td>\n",
       "      <td>NaN</td>\n",
       "      <td>2</td>\n",
       "      <td>393.0</td>\n",
       "      <td>1044.0</td>\n",
       "      <td>NaN</td>\n",
       "      <td>NaN</td>\n",
       "      <td>3/21/2013 22:45</td>\n",
       "      <td>NaN</td>\n",
       "      <td>0</td>\n",
       "      <td>0</td>\n",
       "      <td>3/21/2013 15:33</td>\n",
       "      <td>13.19956</td>\n",
       "      <td>77.70688</td>\n",
       "      <td>12.968887</td>\n",
       "      <td>77.644329</td>\n",
       "    </tr>\n",
       "    <tr>\n",
       "      <th>28752</th>\n",
       "      <td>40016</td>\n",
       "      <td>12</td>\n",
       "      <td>NaN</td>\n",
       "      <td>2</td>\n",
       "      <td>352.0</td>\n",
       "      <td>1054.0</td>\n",
       "      <td>15.0</td>\n",
       "      <td>NaN</td>\n",
       "      <td>8/19/2013 7:30</td>\n",
       "      <td>41505.35236</td>\n",
       "      <td>1</td>\n",
       "      <td>0</td>\n",
       "      <td>8/19/2013 0:06</td>\n",
       "      <td>13.03369</td>\n",
       "      <td>77.62821</td>\n",
       "      <td>12.901840</td>\n",
       "      <td>77.581587</td>\n",
       "    </tr>\n",
       "    <tr>\n",
       "      <th>39437</th>\n",
       "      <td>40862</td>\n",
       "      <td>12</td>\n",
       "      <td>NaN</td>\n",
       "      <td>1</td>\n",
       "      <td>1396.0</td>\n",
       "      <td>NaN</td>\n",
       "      <td>31.0</td>\n",
       "      <td>44.0</td>\n",
       "      <td>10/25/2013 22:00</td>\n",
       "      <td>41574.99931</td>\n",
       "      <td>0</td>\n",
       "      <td>0</td>\n",
       "      <td>10/25/2013 16:55</td>\n",
       "      <td>NaN</td>\n",
       "      <td>NaN</td>\n",
       "      <td>NaN</td>\n",
       "      <td>NaN</td>\n",
       "    </tr>\n",
       "    <tr>\n",
       "      <th>32544</th>\n",
       "      <td>42179</td>\n",
       "      <td>12</td>\n",
       "      <td>NaN</td>\n",
       "      <td>2</td>\n",
       "      <td>571.0</td>\n",
       "      <td>150.0</td>\n",
       "      <td>15.0</td>\n",
       "      <td>NaN</td>\n",
       "      <td>9/10/2013 8:00</td>\n",
       "      <td>41527.37938</td>\n",
       "      <td>1</td>\n",
       "      <td>0</td>\n",
       "      <td>9/9/2013 18:36</td>\n",
       "      <td>12.95185</td>\n",
       "      <td>77.69642</td>\n",
       "      <td>12.897240</td>\n",
       "      <td>77.610650</td>\n",
       "    </tr>\n",
       "    <tr>\n",
       "      <th>...</th>\n",
       "      <td>...</td>\n",
       "      <td>...</td>\n",
       "      <td>...</td>\n",
       "      <td>...</td>\n",
       "      <td>...</td>\n",
       "      <td>...</td>\n",
       "      <td>...</td>\n",
       "      <td>...</td>\n",
       "      <td>...</td>\n",
       "      <td>...</td>\n",
       "      <td>...</td>\n",
       "      <td>...</td>\n",
       "      <td>...</td>\n",
       "      <td>...</td>\n",
       "      <td>...</td>\n",
       "      <td>...</td>\n",
       "      <td>...</td>\n",
       "    </tr>\n",
       "    <tr>\n",
       "      <th>35483</th>\n",
       "      <td>43843</td>\n",
       "      <td>65</td>\n",
       "      <td>2.0</td>\n",
       "      <td>3</td>\n",
       "      <td>1096.0</td>\n",
       "      <td>NaN</td>\n",
       "      <td>NaN</td>\n",
       "      <td>NaN</td>\n",
       "      <td>9/29/2013 10:30</td>\n",
       "      <td>41546.81250</td>\n",
       "      <td>0</td>\n",
       "      <td>0</td>\n",
       "      <td>9/29/2013 9:24</td>\n",
       "      <td>12.96519</td>\n",
       "      <td>77.71932</td>\n",
       "      <td>NaN</td>\n",
       "      <td>NaN</td>\n",
       "    </tr>\n",
       "    <tr>\n",
       "      <th>39296</th>\n",
       "      <td>46094</td>\n",
       "      <td>65</td>\n",
       "      <td>NaN</td>\n",
       "      <td>1</td>\n",
       "      <td>393.0</td>\n",
       "      <td>NaN</td>\n",
       "      <td>15.0</td>\n",
       "      <td>49.0</td>\n",
       "      <td>10/25/2013 8:00</td>\n",
       "      <td>41572.00000</td>\n",
       "      <td>0</td>\n",
       "      <td>0</td>\n",
       "      <td>10/24/2013 19:35</td>\n",
       "      <td>13.19956</td>\n",
       "      <td>77.70688</td>\n",
       "      <td>NaN</td>\n",
       "      <td>NaN</td>\n",
       "    </tr>\n",
       "    <tr>\n",
       "      <th>2693</th>\n",
       "      <td>23919</td>\n",
       "      <td>12</td>\n",
       "      <td>NaN</td>\n",
       "      <td>2</td>\n",
       "      <td>1167.0</td>\n",
       "      <td>585.0</td>\n",
       "      <td>NaN</td>\n",
       "      <td>NaN</td>\n",
       "      <td>1/30/2013 4:30</td>\n",
       "      <td>NaN</td>\n",
       "      <td>1</td>\n",
       "      <td>0</td>\n",
       "      <td>1/29/2013 13:54</td>\n",
       "      <td>13.00037</td>\n",
       "      <td>77.72746</td>\n",
       "      <td>12.976770</td>\n",
       "      <td>77.572700</td>\n",
       "    </tr>\n",
       "    <tr>\n",
       "      <th>8076</th>\n",
       "      <td>27166</td>\n",
       "      <td>12</td>\n",
       "      <td>1.0</td>\n",
       "      <td>3</td>\n",
       "      <td>793.0</td>\n",
       "      <td>NaN</td>\n",
       "      <td>NaN</td>\n",
       "      <td>NaN</td>\n",
       "      <td>3/27/2013 13:00</td>\n",
       "      <td>NaN</td>\n",
       "      <td>0</td>\n",
       "      <td>0</td>\n",
       "      <td>3/27/2013 12:20</td>\n",
       "      <td>13.02239</td>\n",
       "      <td>77.59492</td>\n",
       "      <td>NaN</td>\n",
       "      <td>NaN</td>\n",
       "    </tr>\n",
       "    <tr>\n",
       "      <th>7624</th>\n",
       "      <td>33981</td>\n",
       "      <td>12</td>\n",
       "      <td>NaN</td>\n",
       "      <td>2</td>\n",
       "      <td>689.0</td>\n",
       "      <td>1371.0</td>\n",
       "      <td>NaN</td>\n",
       "      <td>NaN</td>\n",
       "      <td>3/22/2013 22:00</td>\n",
       "      <td>NaN</td>\n",
       "      <td>1</td>\n",
       "      <td>0</td>\n",
       "      <td>3/22/2013 18:05</td>\n",
       "      <td>12.97672</td>\n",
       "      <td>77.64927</td>\n",
       "      <td>13.000418</td>\n",
       "      <td>77.674835</td>\n",
       "    </tr>\n",
       "  </tbody>\n",
       "</table>\n",
       "<p>30401 rows × 17 columns</p>\n",
       "</div>"
      ],
      "text/plain": [
       "       user_id  vehicle_model_id  package_id  travel_type_id  from_area_id  \\\n",
       "12653    29419                12         NaN               2         393.0   \n",
       "7519     26861                85         NaN               2         393.0   \n",
       "28752    40016                12         NaN               2         352.0   \n",
       "39437    40862                12         NaN               1        1396.0   \n",
       "32544    42179                12         NaN               2         571.0   \n",
       "...        ...               ...         ...             ...           ...   \n",
       "35483    43843                65         2.0               3        1096.0   \n",
       "39296    46094                65         NaN               1         393.0   \n",
       "2693     23919                12         NaN               2        1167.0   \n",
       "8076     27166                12         1.0               3         793.0   \n",
       "7624     33981                12         NaN               2         689.0   \n",
       "\n",
       "       to_area_id  from_city_id  to_city_id         from_date      to_date  \\\n",
       "12653       376.0           NaN         NaN     5/8/2013 5:00          NaN   \n",
       "7519       1044.0           NaN         NaN   3/21/2013 22:45          NaN   \n",
       "28752      1054.0          15.0         NaN    8/19/2013 7:30  41505.35236   \n",
       "39437         NaN          31.0        44.0  10/25/2013 22:00  41574.99931   \n",
       "32544       150.0          15.0         NaN    9/10/2013 8:00  41527.37938   \n",
       "...           ...           ...         ...               ...          ...   \n",
       "35483         NaN           NaN         NaN   9/29/2013 10:30  41546.81250   \n",
       "39296         NaN          15.0        49.0   10/25/2013 8:00  41572.00000   \n",
       "2693        585.0           NaN         NaN    1/30/2013 4:30          NaN   \n",
       "8076          NaN           NaN         NaN   3/27/2013 13:00          NaN   \n",
       "7624       1371.0           NaN         NaN   3/22/2013 22:00          NaN   \n",
       "\n",
       "       online_booking  mobile_site_booking   booking_created  from_lat  \\\n",
       "12653               0                    0    5/7/2013 22:20  13.19956   \n",
       "7519                0                    0   3/21/2013 15:33  13.19956   \n",
       "28752               1                    0    8/19/2013 0:06  13.03369   \n",
       "39437               0                    0  10/25/2013 16:55       NaN   \n",
       "32544               1                    0    9/9/2013 18:36  12.95185   \n",
       "...               ...                  ...               ...       ...   \n",
       "35483               0                    0    9/29/2013 9:24  12.96519   \n",
       "39296               0                    0  10/24/2013 19:35  13.19956   \n",
       "2693                1                    0   1/29/2013 13:54  13.00037   \n",
       "8076                0                    0   3/27/2013 12:20  13.02239   \n",
       "7624                1                    0   3/22/2013 18:05  12.97672   \n",
       "\n",
       "       from_long     to_lat    to_long  \n",
       "12653   77.70688  12.902450  77.660810  \n",
       "7519    77.70688  12.968887  77.644329  \n",
       "28752   77.62821  12.901840  77.581587  \n",
       "39437        NaN        NaN        NaN  \n",
       "32544   77.69642  12.897240  77.610650  \n",
       "...          ...        ...        ...  \n",
       "35483   77.71932        NaN        NaN  \n",
       "39296   77.70688        NaN        NaN  \n",
       "2693    77.72746  12.976770  77.572700  \n",
       "8076    77.59492        NaN        NaN  \n",
       "7624    77.64927  13.000418  77.674835  \n",
       "\n",
       "[30401 rows x 17 columns]"
      ]
     },
     "execution_count": 11,
     "metadata": {},
     "output_type": "execute_result"
    }
   ],
   "source": [
    "xtrain     #random rows of features only  (for training)"
   ]
  },
  {
   "cell_type": "code",
   "execution_count": 12,
   "id": "3c58e592",
   "metadata": {},
   "outputs": [
    {
     "data": {
      "text/html": [
       "<div>\n",
       "<style scoped>\n",
       "    .dataframe tbody tr th:only-of-type {\n",
       "        vertical-align: middle;\n",
       "    }\n",
       "\n",
       "    .dataframe tbody tr th {\n",
       "        vertical-align: top;\n",
       "    }\n",
       "\n",
       "    .dataframe thead th {\n",
       "        text-align: right;\n",
       "    }\n",
       "</style>\n",
       "<table border=\"1\" class=\"dataframe\">\n",
       "  <thead>\n",
       "    <tr style=\"text-align: right;\">\n",
       "      <th></th>\n",
       "      <th>user_id</th>\n",
       "      <th>vehicle_model_id</th>\n",
       "      <th>package_id</th>\n",
       "      <th>travel_type_id</th>\n",
       "      <th>from_area_id</th>\n",
       "      <th>to_area_id</th>\n",
       "      <th>from_city_id</th>\n",
       "      <th>to_city_id</th>\n",
       "      <th>from_date</th>\n",
       "      <th>to_date</th>\n",
       "      <th>online_booking</th>\n",
       "      <th>mobile_site_booking</th>\n",
       "      <th>booking_created</th>\n",
       "      <th>from_lat</th>\n",
       "      <th>from_long</th>\n",
       "      <th>to_lat</th>\n",
       "      <th>to_long</th>\n",
       "    </tr>\n",
       "  </thead>\n",
       "  <tbody>\n",
       "    <tr>\n",
       "      <th>6198</th>\n",
       "      <td>32348</td>\n",
       "      <td>12</td>\n",
       "      <td>NaN</td>\n",
       "      <td>2</td>\n",
       "      <td>1226.0</td>\n",
       "      <td>1165.0</td>\n",
       "      <td>NaN</td>\n",
       "      <td>NaN</td>\n",
       "      <td>3/5/2013 19:45</td>\n",
       "      <td>NaN</td>\n",
       "      <td>1</td>\n",
       "      <td>0</td>\n",
       "      <td>3/5/2013 10:18</td>\n",
       "      <td>13.01508</td>\n",
       "      <td>77.67796</td>\n",
       "      <td>12.990947</td>\n",
       "      <td>77.687112</td>\n",
       "    </tr>\n",
       "    <tr>\n",
       "      <th>16415</th>\n",
       "      <td>27557</td>\n",
       "      <td>12</td>\n",
       "      <td>1.0</td>\n",
       "      <td>3</td>\n",
       "      <td>722.0</td>\n",
       "      <td>NaN</td>\n",
       "      <td>NaN</td>\n",
       "      <td>NaN</td>\n",
       "      <td>6/2/2013 12:45</td>\n",
       "      <td>NaN</td>\n",
       "      <td>0</td>\n",
       "      <td>0</td>\n",
       "      <td>6/2/2013 11:39</td>\n",
       "      <td>12.91567</td>\n",
       "      <td>77.55465</td>\n",
       "      <td>NaN</td>\n",
       "      <td>NaN</td>\n",
       "    </tr>\n",
       "    <tr>\n",
       "      <th>24605</th>\n",
       "      <td>37629</td>\n",
       "      <td>12</td>\n",
       "      <td>NaN</td>\n",
       "      <td>2</td>\n",
       "      <td>590.0</td>\n",
       "      <td>822.0</td>\n",
       "      <td>15.0</td>\n",
       "      <td>NaN</td>\n",
       "      <td>7/26/2013 16:00</td>\n",
       "      <td>41481.68399</td>\n",
       "      <td>0</td>\n",
       "      <td>0</td>\n",
       "      <td>7/26/2013 13:35</td>\n",
       "      <td>13.00826</td>\n",
       "      <td>77.56433</td>\n",
       "      <td>13.010240</td>\n",
       "      <td>77.580560</td>\n",
       "    </tr>\n",
       "    <tr>\n",
       "      <th>27112</th>\n",
       "      <td>29102</td>\n",
       "      <td>85</td>\n",
       "      <td>NaN</td>\n",
       "      <td>1</td>\n",
       "      <td>357.0</td>\n",
       "      <td>NaN</td>\n",
       "      <td>15.0</td>\n",
       "      <td>32.0</td>\n",
       "      <td>8/25/2013 7:30</td>\n",
       "      <td>41511.00000</td>\n",
       "      <td>0</td>\n",
       "      <td>0</td>\n",
       "      <td>8/9/2013 20:58</td>\n",
       "      <td>13.03064</td>\n",
       "      <td>77.64910</td>\n",
       "      <td>NaN</td>\n",
       "      <td>NaN</td>\n",
       "    </tr>\n",
       "    <tr>\n",
       "      <th>19316</th>\n",
       "      <td>30716</td>\n",
       "      <td>12</td>\n",
       "      <td>2.0</td>\n",
       "      <td>3</td>\n",
       "      <td>376.0</td>\n",
       "      <td>NaN</td>\n",
       "      <td>NaN</td>\n",
       "      <td>NaN</td>\n",
       "      <td>6/23/2013 7:00</td>\n",
       "      <td>NaN</td>\n",
       "      <td>0</td>\n",
       "      <td>0</td>\n",
       "      <td>6/22/2013 7:35</td>\n",
       "      <td>12.90245</td>\n",
       "      <td>77.66081</td>\n",
       "      <td>NaN</td>\n",
       "      <td>NaN</td>\n",
       "    </tr>\n",
       "    <tr>\n",
       "      <th>...</th>\n",
       "      <td>...</td>\n",
       "      <td>...</td>\n",
       "      <td>...</td>\n",
       "      <td>...</td>\n",
       "      <td>...</td>\n",
       "      <td>...</td>\n",
       "      <td>...</td>\n",
       "      <td>...</td>\n",
       "      <td>...</td>\n",
       "      <td>...</td>\n",
       "      <td>...</td>\n",
       "      <td>...</td>\n",
       "      <td>...</td>\n",
       "      <td>...</td>\n",
       "      <td>...</td>\n",
       "      <td>...</td>\n",
       "      <td>...</td>\n",
       "    </tr>\n",
       "    <tr>\n",
       "      <th>9854</th>\n",
       "      <td>28374</td>\n",
       "      <td>85</td>\n",
       "      <td>2.0</td>\n",
       "      <td>3</td>\n",
       "      <td>520.0</td>\n",
       "      <td>NaN</td>\n",
       "      <td>NaN</td>\n",
       "      <td>NaN</td>\n",
       "      <td>4/14/2013 8:30</td>\n",
       "      <td>41378.00000</td>\n",
       "      <td>1</td>\n",
       "      <td>0</td>\n",
       "      <td>4/13/2013 15:41</td>\n",
       "      <td>12.92598</td>\n",
       "      <td>77.61837</td>\n",
       "      <td>NaN</td>\n",
       "      <td>NaN</td>\n",
       "    </tr>\n",
       "    <tr>\n",
       "      <th>14754</th>\n",
       "      <td>31606</td>\n",
       "      <td>28</td>\n",
       "      <td>NaN</td>\n",
       "      <td>2</td>\n",
       "      <td>1096.0</td>\n",
       "      <td>393.0</td>\n",
       "      <td>NaN</td>\n",
       "      <td>NaN</td>\n",
       "      <td>5/23/2013 5:45</td>\n",
       "      <td>NaN</td>\n",
       "      <td>0</td>\n",
       "      <td>0</td>\n",
       "      <td>5/22/2013 22:56</td>\n",
       "      <td>12.96519</td>\n",
       "      <td>77.71932</td>\n",
       "      <td>13.199560</td>\n",
       "      <td>77.706880</td>\n",
       "    </tr>\n",
       "    <tr>\n",
       "      <th>3049</th>\n",
       "      <td>14257</td>\n",
       "      <td>12</td>\n",
       "      <td>NaN</td>\n",
       "      <td>2</td>\n",
       "      <td>1239.0</td>\n",
       "      <td>1053.0</td>\n",
       "      <td>NaN</td>\n",
       "      <td>NaN</td>\n",
       "      <td>2/1/2013 23:30</td>\n",
       "      <td>NaN</td>\n",
       "      <td>0</td>\n",
       "      <td>0</td>\n",
       "      <td>2/1/2013 20:57</td>\n",
       "      <td>12.97251</td>\n",
       "      <td>77.61954</td>\n",
       "      <td>12.912799</td>\n",
       "      <td>77.589784</td>\n",
       "    </tr>\n",
       "    <tr>\n",
       "      <th>18002</th>\n",
       "      <td>33763</td>\n",
       "      <td>12</td>\n",
       "      <td>NaN</td>\n",
       "      <td>2</td>\n",
       "      <td>184.0</td>\n",
       "      <td>455.0</td>\n",
       "      <td>NaN</td>\n",
       "      <td>NaN</td>\n",
       "      <td>6/13/2013 7:00</td>\n",
       "      <td>NaN</td>\n",
       "      <td>1</td>\n",
       "      <td>0</td>\n",
       "      <td>6/12/2013 11:35</td>\n",
       "      <td>12.95871</td>\n",
       "      <td>77.56337</td>\n",
       "      <td>12.999874</td>\n",
       "      <td>77.678120</td>\n",
       "    </tr>\n",
       "    <tr>\n",
       "      <th>38821</th>\n",
       "      <td>39985</td>\n",
       "      <td>89</td>\n",
       "      <td>NaN</td>\n",
       "      <td>2</td>\n",
       "      <td>393.0</td>\n",
       "      <td>1383.0</td>\n",
       "      <td>15.0</td>\n",
       "      <td>NaN</td>\n",
       "      <td>10/21/2013 9:00</td>\n",
       "      <td>41568.45988</td>\n",
       "      <td>0</td>\n",
       "      <td>0</td>\n",
       "      <td>10/21/2013 5:45</td>\n",
       "      <td>13.19956</td>\n",
       "      <td>77.70688</td>\n",
       "      <td>12.930451</td>\n",
       "      <td>77.685822</td>\n",
       "    </tr>\n",
       "  </tbody>\n",
       "</table>\n",
       "<p>13030 rows × 17 columns</p>\n",
       "</div>"
      ],
      "text/plain": [
       "       user_id  vehicle_model_id  package_id  travel_type_id  from_area_id  \\\n",
       "6198     32348                12         NaN               2        1226.0   \n",
       "16415    27557                12         1.0               3         722.0   \n",
       "24605    37629                12         NaN               2         590.0   \n",
       "27112    29102                85         NaN               1         357.0   \n",
       "19316    30716                12         2.0               3         376.0   \n",
       "...        ...               ...         ...             ...           ...   \n",
       "9854     28374                85         2.0               3         520.0   \n",
       "14754    31606                28         NaN               2        1096.0   \n",
       "3049     14257                12         NaN               2        1239.0   \n",
       "18002    33763                12         NaN               2         184.0   \n",
       "38821    39985                89         NaN               2         393.0   \n",
       "\n",
       "       to_area_id  from_city_id  to_city_id        from_date      to_date  \\\n",
       "6198       1165.0           NaN         NaN   3/5/2013 19:45          NaN   \n",
       "16415         NaN           NaN         NaN   6/2/2013 12:45          NaN   \n",
       "24605       822.0          15.0         NaN  7/26/2013 16:00  41481.68399   \n",
       "27112         NaN          15.0        32.0   8/25/2013 7:30  41511.00000   \n",
       "19316         NaN           NaN         NaN   6/23/2013 7:00          NaN   \n",
       "...           ...           ...         ...              ...          ...   \n",
       "9854          NaN           NaN         NaN   4/14/2013 8:30  41378.00000   \n",
       "14754       393.0           NaN         NaN   5/23/2013 5:45          NaN   \n",
       "3049       1053.0           NaN         NaN   2/1/2013 23:30          NaN   \n",
       "18002       455.0           NaN         NaN   6/13/2013 7:00          NaN   \n",
       "38821      1383.0          15.0         NaN  10/21/2013 9:00  41568.45988   \n",
       "\n",
       "       online_booking  mobile_site_booking  booking_created  from_lat  \\\n",
       "6198                1                    0   3/5/2013 10:18  13.01508   \n",
       "16415               0                    0   6/2/2013 11:39  12.91567   \n",
       "24605               0                    0  7/26/2013 13:35  13.00826   \n",
       "27112               0                    0   8/9/2013 20:58  13.03064   \n",
       "19316               0                    0   6/22/2013 7:35  12.90245   \n",
       "...               ...                  ...              ...       ...   \n",
       "9854                1                    0  4/13/2013 15:41  12.92598   \n",
       "14754               0                    0  5/22/2013 22:56  12.96519   \n",
       "3049                0                    0   2/1/2013 20:57  12.97251   \n",
       "18002               1                    0  6/12/2013 11:35  12.95871   \n",
       "38821               0                    0  10/21/2013 5:45  13.19956   \n",
       "\n",
       "       from_long     to_lat    to_long  \n",
       "6198    77.67796  12.990947  77.687112  \n",
       "16415   77.55465        NaN        NaN  \n",
       "24605   77.56433  13.010240  77.580560  \n",
       "27112   77.64910        NaN        NaN  \n",
       "19316   77.66081        NaN        NaN  \n",
       "...          ...        ...        ...  \n",
       "9854    77.61837        NaN        NaN  \n",
       "14754   77.71932  13.199560  77.706880  \n",
       "3049    77.61954  12.912799  77.589784  \n",
       "18002   77.56337  12.999874  77.678120  \n",
       "38821   77.70688  12.930451  77.685822  \n",
       "\n",
       "[13030 rows x 17 columns]"
      ]
     },
     "execution_count": 12,
     "metadata": {},
     "output_type": "execute_result"
    }
   ],
   "source": [
    "xtest     #random rows from features only (for testing)"
   ]
  },
  {
   "cell_type": "code",
   "execution_count": 13,
   "id": "d8d257ca",
   "metadata": {},
   "outputs": [
    {
     "data": {
      "text/plain": [
       "12653    0\n",
       "7519     0\n",
       "28752    1\n",
       "39437    0\n",
       "32544    1\n",
       "        ..\n",
       "35483    0\n",
       "39296    0\n",
       "2693     0\n",
       "8076     0\n",
       "7624     0\n",
       "Name: Car_Cancellation, Length: 30401, dtype: int64"
      ]
     },
     "execution_count": 13,
     "metadata": {},
     "output_type": "execute_result"
    }
   ],
   "source": [
    "ytrain      #random rows from target only (y-pred)"
   ]
  },
  {
   "cell_type": "code",
   "execution_count": 14,
   "id": "5501e8b0",
   "metadata": {},
   "outputs": [
    {
     "data": {
      "text/plain": [
       "6198     0\n",
       "16415    0\n",
       "24605    0\n",
       "27112    0\n",
       "19316    0\n",
       "        ..\n",
       "9854     0\n",
       "14754    0\n",
       "3049     0\n",
       "18002    0\n",
       "38821    0\n",
       "Name: Car_Cancellation, Length: 13030, dtype: int64"
      ]
     },
     "execution_count": 14,
     "metadata": {},
     "output_type": "execute_result"
    }
   ],
   "source": [
    "ytest              #random rows from target only"
   ]
  },
  {
   "cell_type": "markdown",
   "id": "24b43e7e",
   "metadata": {},
   "source": [
    "#  Missing Value Treatment"
   ]
  },
  {
   "cell_type": "code",
   "execution_count": 15,
   "id": "d633691e",
   "metadata": {},
   "outputs": [
    {
     "data": {
      "text/plain": [
       "user_id                    0\n",
       "vehicle_model_id           0\n",
       "package_id             25098\n",
       "travel_type_id             0\n",
       "from_area_id              51\n",
       "to_area_id              6385\n",
       "from_city_id           18993\n",
       "to_city_id             29319\n",
       "from_date                  0\n",
       "to_date                12509\n",
       "online_booking             0\n",
       "mobile_site_booking        0\n",
       "booking_created            0\n",
       "from_lat                  54\n",
       "from_long                 54\n",
       "to_lat                  6385\n",
       "to_long                 6385\n",
       "dtype: int64"
      ]
     },
     "execution_count": 15,
     "metadata": {},
     "output_type": "execute_result"
    }
   ],
   "source": [
    "xtrain.isnull().sum()"
   ]
  },
  {
   "cell_type": "code",
   "execution_count": 16,
   "id": "6a169f9f",
   "metadata": {},
   "outputs": [
    {
     "data": {
      "text/plain": [
       "(30401, 17)"
      ]
     },
     "execution_count": 16,
     "metadata": {},
     "output_type": "execute_result"
    }
   ],
   "source": [
    "xtrain.shape"
   ]
  },
  {
   "cell_type": "code",
   "execution_count": 17,
   "id": "3a591602",
   "metadata": {},
   "outputs": [
    {
     "name": "stdout",
     "output_type": "stream",
     "text": [
      "<class 'pandas.core.frame.DataFrame'>\n",
      "Int64Index: 30401 entries, 12653 to 7624\n",
      "Data columns (total 17 columns):\n",
      " #   Column               Non-Null Count  Dtype  \n",
      "---  ------               --------------  -----  \n",
      " 0   user_id              30401 non-null  int64  \n",
      " 1   vehicle_model_id     30401 non-null  int64  \n",
      " 2   package_id           5303 non-null   float64\n",
      " 3   travel_type_id       30401 non-null  int64  \n",
      " 4   from_area_id         30350 non-null  float64\n",
      " 5   to_area_id           24016 non-null  float64\n",
      " 6   from_city_id         11408 non-null  float64\n",
      " 7   to_city_id           1082 non-null   float64\n",
      " 8   from_date            30401 non-null  object \n",
      " 9   to_date              17892 non-null  float64\n",
      " 10  online_booking       30401 non-null  int64  \n",
      " 11  mobile_site_booking  30401 non-null  int64  \n",
      " 12  booking_created      30401 non-null  object \n",
      " 13  from_lat             30347 non-null  float64\n",
      " 14  from_long            30347 non-null  float64\n",
      " 15  to_lat               24016 non-null  float64\n",
      " 16  to_long              24016 non-null  float64\n",
      "dtypes: float64(10), int64(5), object(2)\n",
      "memory usage: 4.2+ MB\n"
     ]
    }
   ],
   "source": [
    "xtrain.info()"
   ]
  },
  {
   "cell_type": "code",
   "execution_count": 18,
   "id": "40b0f2cd",
   "metadata": {},
   "outputs": [
    {
     "data": {
      "text/plain": [
       "82.55649485214302"
      ]
     },
     "execution_count": 18,
     "metadata": {},
     "output_type": "execute_result"
    }
   ],
   "source": [
    "#Checking %age of null values present in each column\n",
    "xtrain[\"package_id\"].isnull().sum()*100/xtrain.shape[0]  "
   ]
  },
  {
   "cell_type": "code",
   "execution_count": 19,
   "id": "8516b698",
   "metadata": {},
   "outputs": [
    {
     "data": {
      "text/plain": [
       "0.16775763955133055"
      ]
     },
     "execution_count": 19,
     "metadata": {},
     "output_type": "execute_result"
    }
   ],
   "source": [
    "xtrain[\"from_area_id\"].isnull().sum()*100/xtrain.shape[0]"
   ]
  },
  {
   "cell_type": "code",
   "execution_count": 20,
   "id": "49390029",
   "metadata": {},
   "outputs": [
    {
     "data": {
      "text/plain": [
       "21.002598598730305"
      ]
     },
     "execution_count": 20,
     "metadata": {},
     "output_type": "execute_result"
    }
   ],
   "source": [
    "xtrain[\"to_area_id\"].isnull().sum()*100/xtrain.shape[0]"
   ]
  },
  {
   "cell_type": "code",
   "execution_count": 21,
   "id": "ddea584c",
   "metadata": {},
   "outputs": [
    {
     "data": {
      "text/plain": [
       "62.47491858820433"
      ]
     },
     "execution_count": 21,
     "metadata": {},
     "output_type": "execute_result"
    }
   ],
   "source": [
    "xtrain[\"from_city_id\"].isnull().sum()*100/xtrain.shape[0]"
   ]
  },
  {
   "cell_type": "code",
   "execution_count": 22,
   "id": "4bef2bc4",
   "metadata": {},
   "outputs": [
    {
     "data": {
      "text/plain": [
       "96.44090654912668"
      ]
     },
     "execution_count": 22,
     "metadata": {},
     "output_type": "execute_result"
    }
   ],
   "source": [
    "xtrain[\"to_city_id\"].isnull().sum()*100/xtrain.shape[0]"
   ]
  },
  {
   "cell_type": "code",
   "execution_count": 23,
   "id": "2da5aac6",
   "metadata": {},
   "outputs": [
    {
     "data": {
      "text/plain": [
       "41.146672806815566"
      ]
     },
     "execution_count": 23,
     "metadata": {},
     "output_type": "execute_result"
    }
   ],
   "source": [
    "xtrain[\"to_date\"].isnull().sum()*100/xtrain.shape[0]"
   ]
  },
  {
   "cell_type": "code",
   "execution_count": 24,
   "id": "858c57a1",
   "metadata": {},
   "outputs": [
    {
     "data": {
      "text/plain": [
       "0.17762573599552647"
      ]
     },
     "execution_count": 24,
     "metadata": {},
     "output_type": "execute_result"
    }
   ],
   "source": [
    "xtrain[\"from_lat\"].isnull().sum()*100/xtrain.shape[0]"
   ]
  },
  {
   "cell_type": "code",
   "execution_count": 25,
   "id": "7ce8c1b2",
   "metadata": {},
   "outputs": [
    {
     "data": {
      "text/plain": [
       "0.17762573599552647"
      ]
     },
     "execution_count": 25,
     "metadata": {},
     "output_type": "execute_result"
    }
   ],
   "source": [
    "xtrain[\"from_long\"].isnull().sum()*100/xtrain.shape[0]"
   ]
  },
  {
   "cell_type": "code",
   "execution_count": 26,
   "id": "182a4cbf",
   "metadata": {},
   "outputs": [
    {
     "data": {
      "text/plain": [
       "21.002598598730305"
      ]
     },
     "execution_count": 26,
     "metadata": {},
     "output_type": "execute_result"
    }
   ],
   "source": [
    "xtrain[\"to_lat\"].isnull().sum()*100/xtrain.shape[0]"
   ]
  },
  {
   "cell_type": "code",
   "execution_count": 27,
   "id": "4d7c8088",
   "metadata": {},
   "outputs": [
    {
     "data": {
      "text/plain": [
       "21.002598598730305"
      ]
     },
     "execution_count": 27,
     "metadata": {},
     "output_type": "execute_result"
    }
   ],
   "source": [
    "xtrain[\"to_long\"].isnull().sum()*100/xtrain.shape[0]"
   ]
  },
  {
   "cell_type": "code",
   "execution_count": 28,
   "id": "07f0ee3d",
   "metadata": {},
   "outputs": [],
   "source": [
    "#Replacing missing values with mean (for training data) (only where missing %age is <10%)\n",
    "xtrain[\"from_area_id\"]=xtrain[\"from_area_id\"].fillna(xtrain[\"from_area_id\"].mean())\n",
    "xtrain[\"from_lat\"]=xtrain[\"from_lat\"].fillna(xtrain[\"from_lat\"].mean())\n",
    "xtrain[\"from_long\"]=xtrain[\"from_long\"].fillna(xtrain[\"from_long\"].mean())"
   ]
  },
  {
   "cell_type": "code",
   "execution_count": 29,
   "id": "c5acae7c",
   "metadata": {},
   "outputs": [],
   "source": [
    "#Same for testing data\n",
    "xtest[\"from_area_id\"]=xtest[\"from_area_id\"].fillna(xtest[\"from_area_id\"].mean())\n",
    "xtest[\"from_lat\"]=xtest[\"from_lat\"].fillna(xtest[\"from_lat\"].mean())\n",
    "xtest[\"from_long\"]=xtest[\"from_long\"].fillna(xtest[\"from_long\"].mean())"
   ]
  },
  {
   "cell_type": "code",
   "execution_count": 30,
   "id": "16d5710f",
   "metadata": {},
   "outputs": [
    {
     "data": {
      "text/html": [
       "<div>\n",
       "<style scoped>\n",
       "    .dataframe tbody tr th:only-of-type {\n",
       "        vertical-align: middle;\n",
       "    }\n",
       "\n",
       "    .dataframe tbody tr th {\n",
       "        vertical-align: top;\n",
       "    }\n",
       "\n",
       "    .dataframe thead th {\n",
       "        text-align: right;\n",
       "    }\n",
       "</style>\n",
       "<table border=\"1\" class=\"dataframe\">\n",
       "  <thead>\n",
       "    <tr style=\"text-align: right;\">\n",
       "      <th></th>\n",
       "      <th>vehicle_model_id</th>\n",
       "      <th>travel_type_id</th>\n",
       "      <th>from_area_id</th>\n",
       "      <th>from_date</th>\n",
       "      <th>online_booking</th>\n",
       "      <th>mobile_site_booking</th>\n",
       "      <th>booking_created</th>\n",
       "      <th>from_lat</th>\n",
       "      <th>from_long</th>\n",
       "    </tr>\n",
       "  </thead>\n",
       "  <tbody>\n",
       "    <tr>\n",
       "      <th>12653</th>\n",
       "      <td>12</td>\n",
       "      <td>2</td>\n",
       "      <td>393.0</td>\n",
       "      <td>5/8/2013 5:00</td>\n",
       "      <td>0</td>\n",
       "      <td>0</td>\n",
       "      <td>5/7/2013 22:20</td>\n",
       "      <td>13.199560</td>\n",
       "      <td>77.706880</td>\n",
       "    </tr>\n",
       "    <tr>\n",
       "      <th>7519</th>\n",
       "      <td>85</td>\n",
       "      <td>2</td>\n",
       "      <td>393.0</td>\n",
       "      <td>3/21/2013 22:45</td>\n",
       "      <td>0</td>\n",
       "      <td>0</td>\n",
       "      <td>3/21/2013 15:33</td>\n",
       "      <td>13.199560</td>\n",
       "      <td>77.706880</td>\n",
       "    </tr>\n",
       "    <tr>\n",
       "      <th>28752</th>\n",
       "      <td>12</td>\n",
       "      <td>2</td>\n",
       "      <td>352.0</td>\n",
       "      <td>8/19/2013 7:30</td>\n",
       "      <td>1</td>\n",
       "      <td>0</td>\n",
       "      <td>8/19/2013 0:06</td>\n",
       "      <td>13.033690</td>\n",
       "      <td>77.628210</td>\n",
       "    </tr>\n",
       "    <tr>\n",
       "      <th>39437</th>\n",
       "      <td>12</td>\n",
       "      <td>1</td>\n",
       "      <td>1396.0</td>\n",
       "      <td>10/25/2013 22:00</td>\n",
       "      <td>0</td>\n",
       "      <td>0</td>\n",
       "      <td>10/25/2013 16:55</td>\n",
       "      <td>12.982259</td>\n",
       "      <td>77.636306</td>\n",
       "    </tr>\n",
       "    <tr>\n",
       "      <th>32544</th>\n",
       "      <td>12</td>\n",
       "      <td>2</td>\n",
       "      <td>571.0</td>\n",
       "      <td>9/10/2013 8:00</td>\n",
       "      <td>1</td>\n",
       "      <td>0</td>\n",
       "      <td>9/9/2013 18:36</td>\n",
       "      <td>12.951850</td>\n",
       "      <td>77.696420</td>\n",
       "    </tr>\n",
       "  </tbody>\n",
       "</table>\n",
       "</div>"
      ],
      "text/plain": [
       "       vehicle_model_id  travel_type_id  from_area_id         from_date  \\\n",
       "12653                12               2         393.0     5/8/2013 5:00   \n",
       "7519                 85               2         393.0   3/21/2013 22:45   \n",
       "28752                12               2         352.0    8/19/2013 7:30   \n",
       "39437                12               1        1396.0  10/25/2013 22:00   \n",
       "32544                12               2         571.0    9/10/2013 8:00   \n",
       "\n",
       "       online_booking  mobile_site_booking   booking_created   from_lat  \\\n",
       "12653               0                    0    5/7/2013 22:20  13.199560   \n",
       "7519                0                    0   3/21/2013 15:33  13.199560   \n",
       "28752               1                    0    8/19/2013 0:06  13.033690   \n",
       "39437               0                    0  10/25/2013 16:55  12.982259   \n",
       "32544               1                    0    9/9/2013 18:36  12.951850   \n",
       "\n",
       "       from_long  \n",
       "12653  77.706880  \n",
       "7519   77.706880  \n",
       "28752  77.628210  \n",
       "39437  77.636306  \n",
       "32544  77.696420  "
      ]
     },
     "execution_count": 30,
     "metadata": {},
     "output_type": "execute_result"
    }
   ],
   "source": [
    "#Dropping other columns (whose missing value %age was >10%)\n",
    "xtrain.drop(['user_id','to_area_id','package_id','from_city_id','to_city_id','to_date', 'to_lat', 'to_long'],inplace=True,axis=1)\n",
    "xtrain.head()"
   ]
  },
  {
   "cell_type": "code",
   "execution_count": 31,
   "id": "6d23f8fc",
   "metadata": {},
   "outputs": [
    {
     "data": {
      "text/html": [
       "<div>\n",
       "<style scoped>\n",
       "    .dataframe tbody tr th:only-of-type {\n",
       "        vertical-align: middle;\n",
       "    }\n",
       "\n",
       "    .dataframe tbody tr th {\n",
       "        vertical-align: top;\n",
       "    }\n",
       "\n",
       "    .dataframe thead th {\n",
       "        text-align: right;\n",
       "    }\n",
       "</style>\n",
       "<table border=\"1\" class=\"dataframe\">\n",
       "  <thead>\n",
       "    <tr style=\"text-align: right;\">\n",
       "      <th></th>\n",
       "      <th>vehicle_model_id</th>\n",
       "      <th>travel_type_id</th>\n",
       "      <th>from_area_id</th>\n",
       "      <th>from_date</th>\n",
       "      <th>online_booking</th>\n",
       "      <th>mobile_site_booking</th>\n",
       "      <th>booking_created</th>\n",
       "      <th>from_lat</th>\n",
       "      <th>from_long</th>\n",
       "    </tr>\n",
       "  </thead>\n",
       "  <tbody>\n",
       "    <tr>\n",
       "      <th>6198</th>\n",
       "      <td>12</td>\n",
       "      <td>2</td>\n",
       "      <td>1226.0</td>\n",
       "      <td>3/5/2013 19:45</td>\n",
       "      <td>1</td>\n",
       "      <td>0</td>\n",
       "      <td>3/5/2013 10:18</td>\n",
       "      <td>13.01508</td>\n",
       "      <td>77.67796</td>\n",
       "    </tr>\n",
       "    <tr>\n",
       "      <th>16415</th>\n",
       "      <td>12</td>\n",
       "      <td>3</td>\n",
       "      <td>722.0</td>\n",
       "      <td>6/2/2013 12:45</td>\n",
       "      <td>0</td>\n",
       "      <td>0</td>\n",
       "      <td>6/2/2013 11:39</td>\n",
       "      <td>12.91567</td>\n",
       "      <td>77.55465</td>\n",
       "    </tr>\n",
       "    <tr>\n",
       "      <th>24605</th>\n",
       "      <td>12</td>\n",
       "      <td>2</td>\n",
       "      <td>590.0</td>\n",
       "      <td>7/26/2013 16:00</td>\n",
       "      <td>0</td>\n",
       "      <td>0</td>\n",
       "      <td>7/26/2013 13:35</td>\n",
       "      <td>13.00826</td>\n",
       "      <td>77.56433</td>\n",
       "    </tr>\n",
       "    <tr>\n",
       "      <th>27112</th>\n",
       "      <td>85</td>\n",
       "      <td>1</td>\n",
       "      <td>357.0</td>\n",
       "      <td>8/25/2013 7:30</td>\n",
       "      <td>0</td>\n",
       "      <td>0</td>\n",
       "      <td>8/9/2013 20:58</td>\n",
       "      <td>13.03064</td>\n",
       "      <td>77.64910</td>\n",
       "    </tr>\n",
       "    <tr>\n",
       "      <th>19316</th>\n",
       "      <td>12</td>\n",
       "      <td>3</td>\n",
       "      <td>376.0</td>\n",
       "      <td>6/23/2013 7:00</td>\n",
       "      <td>0</td>\n",
       "      <td>0</td>\n",
       "      <td>6/22/2013 7:35</td>\n",
       "      <td>12.90245</td>\n",
       "      <td>77.66081</td>\n",
       "    </tr>\n",
       "  </tbody>\n",
       "</table>\n",
       "</div>"
      ],
      "text/plain": [
       "       vehicle_model_id  travel_type_id  from_area_id        from_date  \\\n",
       "6198                 12               2        1226.0   3/5/2013 19:45   \n",
       "16415                12               3         722.0   6/2/2013 12:45   \n",
       "24605                12               2         590.0  7/26/2013 16:00   \n",
       "27112                85               1         357.0   8/25/2013 7:30   \n",
       "19316                12               3         376.0   6/23/2013 7:00   \n",
       "\n",
       "       online_booking  mobile_site_booking  booking_created  from_lat  \\\n",
       "6198                1                    0   3/5/2013 10:18  13.01508   \n",
       "16415               0                    0   6/2/2013 11:39  12.91567   \n",
       "24605               0                    0  7/26/2013 13:35  13.00826   \n",
       "27112               0                    0   8/9/2013 20:58  13.03064   \n",
       "19316               0                    0   6/22/2013 7:35  12.90245   \n",
       "\n",
       "       from_long  \n",
       "6198    77.67796  \n",
       "16415   77.55465  \n",
       "24605   77.56433  \n",
       "27112   77.64910  \n",
       "19316   77.66081  "
      ]
     },
     "execution_count": 31,
     "metadata": {},
     "output_type": "execute_result"
    }
   ],
   "source": [
    "#Same for testing data\n",
    "xtest.drop(['user_id','to_area_id','package_id','from_city_id','to_city_id','to_date', 'to_lat', 'to_long'],inplace=True,axis=1)\n",
    "xtest.head()"
   ]
  },
  {
   "cell_type": "code",
   "execution_count": 32,
   "id": "cda1919e",
   "metadata": {},
   "outputs": [
    {
     "data": {
      "text/plain": [
       "12653    0\n",
       "7519     0\n",
       "28752    1\n",
       "39437    0\n",
       "32544    1\n",
       "        ..\n",
       "35483    0\n",
       "39296    0\n",
       "2693     0\n",
       "8076     0\n",
       "7624     0\n",
       "Name: Car_Cancellation, Length: 30401, dtype: int64"
      ]
     },
     "execution_count": 32,
     "metadata": {},
     "output_type": "execute_result"
    }
   ],
   "source": [
    "ytrain"
   ]
  },
  {
   "cell_type": "code",
   "execution_count": 33,
   "id": "6a6f0b9f",
   "metadata": {},
   "outputs": [
    {
     "data": {
      "text/plain": [
       "(30401,)"
      ]
     },
     "execution_count": 33,
     "metadata": {},
     "output_type": "execute_result"
    }
   ],
   "source": [
    "ytrain.shape"
   ]
  },
  {
   "cell_type": "code",
   "execution_count": 34,
   "id": "99e61b5e",
   "metadata": {},
   "outputs": [
    {
     "data": {
      "text/plain": [
       "(30401, 9)"
      ]
     },
     "execution_count": 34,
     "metadata": {},
     "output_type": "execute_result"
    }
   ],
   "source": [
    "xtrain.shape"
   ]
  },
  {
   "cell_type": "code",
   "execution_count": 35,
   "id": "953c1308",
   "metadata": {},
   "outputs": [
    {
     "data": {
      "text/plain": [
       "(13030,)"
      ]
     },
     "execution_count": 35,
     "metadata": {},
     "output_type": "execute_result"
    }
   ],
   "source": [
    "ytest.shape"
   ]
  },
  {
   "cell_type": "code",
   "execution_count": 36,
   "id": "4518fff6",
   "metadata": {},
   "outputs": [
    {
     "data": {
      "text/plain": [
       "(13030, 9)"
      ]
     },
     "execution_count": 36,
     "metadata": {},
     "output_type": "execute_result"
    }
   ],
   "source": [
    "xtest.shape"
   ]
  },
  {
   "cell_type": "code",
   "execution_count": 37,
   "id": "1ecda9ad",
   "metadata": {},
   "outputs": [
    {
     "data": {
      "text/html": [
       "<div>\n",
       "<style scoped>\n",
       "    .dataframe tbody tr th:only-of-type {\n",
       "        vertical-align: middle;\n",
       "    }\n",
       "\n",
       "    .dataframe tbody tr th {\n",
       "        vertical-align: top;\n",
       "    }\n",
       "\n",
       "    .dataframe thead th {\n",
       "        text-align: right;\n",
       "    }\n",
       "</style>\n",
       "<table border=\"1\" class=\"dataframe\">\n",
       "  <thead>\n",
       "    <tr style=\"text-align: right;\">\n",
       "      <th></th>\n",
       "      <th>vehicle_model_id</th>\n",
       "      <th>travel_type_id</th>\n",
       "      <th>from_area_id</th>\n",
       "      <th>online_booking</th>\n",
       "      <th>mobile_site_booking</th>\n",
       "      <th>from_lat</th>\n",
       "      <th>from_long</th>\n",
       "    </tr>\n",
       "  </thead>\n",
       "  <tbody>\n",
       "    <tr>\n",
       "      <th>count</th>\n",
       "      <td>30401.000000</td>\n",
       "      <td>30401.000000</td>\n",
       "      <td>30401.000000</td>\n",
       "      <td>30401.000000</td>\n",
       "      <td>30401.000000</td>\n",
       "      <td>30401.000000</td>\n",
       "      <td>30401.000000</td>\n",
       "    </tr>\n",
       "    <tr>\n",
       "      <th>mean</th>\n",
       "      <td>25.738495</td>\n",
       "      <td>2.138844</td>\n",
       "      <td>709.165865</td>\n",
       "      <td>0.353015</td>\n",
       "      <td>0.043387</td>\n",
       "      <td>12.982259</td>\n",
       "      <td>77.636306</td>\n",
       "    </tr>\n",
       "    <tr>\n",
       "      <th>std</th>\n",
       "      <td>26.807326</td>\n",
       "      <td>0.436755</td>\n",
       "      <td>419.026198</td>\n",
       "      <td>0.477915</td>\n",
       "      <td>0.203729</td>\n",
       "      <td>0.086219</td>\n",
       "      <td>0.059247</td>\n",
       "    </tr>\n",
       "    <tr>\n",
       "      <th>min</th>\n",
       "      <td>1.000000</td>\n",
       "      <td>1.000000</td>\n",
       "      <td>2.000000</td>\n",
       "      <td>0.000000</td>\n",
       "      <td>0.000000</td>\n",
       "      <td>12.776630</td>\n",
       "      <td>77.386930</td>\n",
       "    </tr>\n",
       "    <tr>\n",
       "      <th>25%</th>\n",
       "      <td>12.000000</td>\n",
       "      <td>2.000000</td>\n",
       "      <td>393.000000</td>\n",
       "      <td>0.000000</td>\n",
       "      <td>0.000000</td>\n",
       "      <td>12.926450</td>\n",
       "      <td>77.594560</td>\n",
       "    </tr>\n",
       "    <tr>\n",
       "      <th>50%</th>\n",
       "      <td>12.000000</td>\n",
       "      <td>2.000000</td>\n",
       "      <td>585.000000</td>\n",
       "      <td>0.000000</td>\n",
       "      <td>0.000000</td>\n",
       "      <td>12.967990</td>\n",
       "      <td>77.636306</td>\n",
       "    </tr>\n",
       "    <tr>\n",
       "      <th>75%</th>\n",
       "      <td>24.000000</td>\n",
       "      <td>2.000000</td>\n",
       "      <td>1086.000000</td>\n",
       "      <td>1.000000</td>\n",
       "      <td>0.000000</td>\n",
       "      <td>13.005600</td>\n",
       "      <td>77.688900</td>\n",
       "    </tr>\n",
       "    <tr>\n",
       "      <th>max</th>\n",
       "      <td>91.000000</td>\n",
       "      <td>3.000000</td>\n",
       "      <td>1403.000000</td>\n",
       "      <td>1.000000</td>\n",
       "      <td>1.000000</td>\n",
       "      <td>13.366072</td>\n",
       "      <td>77.786420</td>\n",
       "    </tr>\n",
       "  </tbody>\n",
       "</table>\n",
       "</div>"
      ],
      "text/plain": [
       "       vehicle_model_id  travel_type_id  from_area_id  online_booking  \\\n",
       "count      30401.000000    30401.000000  30401.000000    30401.000000   \n",
       "mean          25.738495        2.138844    709.165865        0.353015   \n",
       "std           26.807326        0.436755    419.026198        0.477915   \n",
       "min            1.000000        1.000000      2.000000        0.000000   \n",
       "25%           12.000000        2.000000    393.000000        0.000000   \n",
       "50%           12.000000        2.000000    585.000000        0.000000   \n",
       "75%           24.000000        2.000000   1086.000000        1.000000   \n",
       "max           91.000000        3.000000   1403.000000        1.000000   \n",
       "\n",
       "       mobile_site_booking      from_lat     from_long  \n",
       "count         30401.000000  30401.000000  30401.000000  \n",
       "mean              0.043387     12.982259     77.636306  \n",
       "std               0.203729      0.086219      0.059247  \n",
       "min               0.000000     12.776630     77.386930  \n",
       "25%               0.000000     12.926450     77.594560  \n",
       "50%               0.000000     12.967990     77.636306  \n",
       "75%               0.000000     13.005600     77.688900  \n",
       "max               1.000000     13.366072     77.786420  "
      ]
     },
     "execution_count": 37,
     "metadata": {},
     "output_type": "execute_result"
    }
   ],
   "source": [
    "xtrain.describe()"
   ]
  },
  {
   "cell_type": "code",
   "execution_count": 38,
   "id": "16e63366",
   "metadata": {},
   "outputs": [
    {
     "data": {
      "text/html": [
       "<div>\n",
       "<style scoped>\n",
       "    .dataframe tbody tr th:only-of-type {\n",
       "        vertical-align: middle;\n",
       "    }\n",
       "\n",
       "    .dataframe tbody tr th {\n",
       "        vertical-align: top;\n",
       "    }\n",
       "\n",
       "    .dataframe thead th {\n",
       "        text-align: right;\n",
       "    }\n",
       "</style>\n",
       "<table border=\"1\" class=\"dataframe\">\n",
       "  <thead>\n",
       "    <tr style=\"text-align: right;\">\n",
       "      <th></th>\n",
       "      <th>from_date</th>\n",
       "      <th>booking_created</th>\n",
       "    </tr>\n",
       "  </thead>\n",
       "  <tbody>\n",
       "    <tr>\n",
       "      <th>count</th>\n",
       "      <td>30401</td>\n",
       "      <td>30401</td>\n",
       "    </tr>\n",
       "    <tr>\n",
       "      <th>unique</th>\n",
       "      <td>17149</td>\n",
       "      <td>28148</td>\n",
       "    </tr>\n",
       "    <tr>\n",
       "      <th>top</th>\n",
       "      <td>10/12/2013 6:00</td>\n",
       "      <td>10/31/2013 9:58</td>\n",
       "    </tr>\n",
       "    <tr>\n",
       "      <th>freq</th>\n",
       "      <td>16</td>\n",
       "      <td>14</td>\n",
       "    </tr>\n",
       "  </tbody>\n",
       "</table>\n",
       "</div>"
      ],
      "text/plain": [
       "              from_date  booking_created\n",
       "count             30401            30401\n",
       "unique            17149            28148\n",
       "top     10/12/2013 6:00  10/31/2013 9:58\n",
       "freq                 16               14"
      ]
     },
     "execution_count": 38,
     "metadata": {},
     "output_type": "execute_result"
    }
   ],
   "source": [
    "xtrain.describe(include=['object'])"
   ]
  },
  {
   "cell_type": "markdown",
   "id": "e8815294",
   "metadata": {},
   "source": [
    "# Correlation Analysis"
   ]
  },
  {
   "cell_type": "code",
   "execution_count": 39,
   "id": "ea91d06d",
   "metadata": {},
   "outputs": [
    {
     "data": {
      "image/png": "[encoded data removed]",
      "text/plain": [
       "<Figure size 640x480 with 2 Axes>"
      ]
     },
     "metadata": {},
     "output_type": "display_data"
    }
   ],
   "source": [
    "sns.heatmap(xtrain.corr(),annot=True, cmap=\"YlGnBu\")\n",
    "plt.show()"
   ]
  },
  {
   "cell_type": "markdown",
   "id": "e2b26d74",
   "metadata": {},
   "source": [
    "# Dealing with date time columns"
   ]
  },
  {
   "cell_type": "code",
   "execution_count": 40,
   "id": "c0362887",
   "metadata": {},
   "outputs": [
    {
     "name": "stdout",
     "output_type": "stream",
     "text": [
      "<class 'pandas.core.frame.DataFrame'>\n",
      "Int64Index: 30401 entries, 12653 to 7624\n",
      "Data columns (total 9 columns):\n",
      " #   Column               Non-Null Count  Dtype  \n",
      "---  ------               --------------  -----  \n",
      " 0   vehicle_model_id     30401 non-null  int64  \n",
      " 1   travel_type_id       30401 non-null  int64  \n",
      " 2   from_area_id         30401 non-null  float64\n",
      " 3   from_date            30401 non-null  object \n",
      " 4   online_booking       30401 non-null  int64  \n",
      " 5   mobile_site_booking  30401 non-null  int64  \n",
      " 6   booking_created      30401 non-null  object \n",
      " 7   from_lat             30401 non-null  float64\n",
      " 8   from_long            30401 non-null  float64\n",
      "dtypes: float64(3), int64(4), object(2)\n",
      "memory usage: 2.3+ MB\n"
     ]
    }
   ],
   "source": [
    "#we will find the difference between the booking time and the trip start time and make a single column out of the difference\n",
    "#converting object to datetime format\n",
    "xtrain.info()"
   ]
  },
  {
   "cell_type": "code",
   "execution_count": 41,
   "id": "b85b8e66",
   "metadata": {},
   "outputs": [],
   "source": [
    "#Converting object to datetime format\n",
    "xtrain[\"from_date\"]=pd.to_datetime(xtrain[\"from_date\"])\n",
    "xtrain[\"booking_created\"]=pd.to_datetime(xtrain[\"booking_created\"])\n",
    "xtest[\"from_date\"]=pd.to_datetime(xtest[\"from_date\"])\n",
    "xtest[\"booking_created\"]=pd.to_datetime(xtest[\"booking_created\"])\n"
   ]
  },
  {
   "cell_type": "code",
   "execution_count": 42,
   "id": "8cb77583",
   "metadata": {},
   "outputs": [
    {
     "name": "stdout",
     "output_type": "stream",
     "text": [
      "<class 'pandas.core.frame.DataFrame'>\n",
      "Int64Index: 30401 entries, 12653 to 7624\n",
      "Data columns (total 9 columns):\n",
      " #   Column               Non-Null Count  Dtype         \n",
      "---  ------               --------------  -----         \n",
      " 0   vehicle_model_id     30401 non-null  int64         \n",
      " 1   travel_type_id       30401 non-null  int64         \n",
      " 2   from_area_id         30401 non-null  float64       \n",
      " 3   from_date            30401 non-null  datetime64[ns]\n",
      " 4   online_booking       30401 non-null  int64         \n",
      " 5   mobile_site_booking  30401 non-null  int64         \n",
      " 6   booking_created      30401 non-null  datetime64[ns]\n",
      " 7   from_lat             30401 non-null  float64       \n",
      " 8   from_long            30401 non-null  float64       \n",
      "dtypes: datetime64[ns](2), float64(3), int64(4)\n",
      "memory usage: 2.3 MB\n"
     ]
    }
   ],
   "source": [
    "xtrain.info()"
   ]
  },
  {
   "cell_type": "code",
   "execution_count": 43,
   "id": "bc40375b",
   "metadata": {},
   "outputs": [
    {
     "name": "stdout",
     "output_type": "stream",
     "text": [
      "<class 'pandas.core.frame.DataFrame'>\n",
      "Int64Index: 13030 entries, 6198 to 38821\n",
      "Data columns (total 9 columns):\n",
      " #   Column               Non-Null Count  Dtype         \n",
      "---  ------               --------------  -----         \n",
      " 0   vehicle_model_id     13030 non-null  int64         \n",
      " 1   travel_type_id       13030 non-null  int64         \n",
      " 2   from_area_id         13030 non-null  float64       \n",
      " 3   from_date            13030 non-null  datetime64[ns]\n",
      " 4   online_booking       13030 non-null  int64         \n",
      " 5   mobile_site_booking  13030 non-null  int64         \n",
      " 6   booking_created      13030 non-null  datetime64[ns]\n",
      " 7   from_lat             13030 non-null  float64       \n",
      " 8   from_long            13030 non-null  float64       \n",
      "dtypes: datetime64[ns](2), float64(3), int64(4)\n",
      "memory usage: 1018.0 KB\n"
     ]
    }
   ],
   "source": [
    "xtest.info()"
   ]
  },
  {
   "cell_type": "code",
   "execution_count": 44,
   "id": "d6f7b1f6",
   "metadata": {},
   "outputs": [
    {
     "data": {
      "text/html": [
       "<div>\n",
       "<style scoped>\n",
       "    .dataframe tbody tr th:only-of-type {\n",
       "        vertical-align: middle;\n",
       "    }\n",
       "\n",
       "    .dataframe tbody tr th {\n",
       "        vertical-align: top;\n",
       "    }\n",
       "\n",
       "    .dataframe thead th {\n",
       "        text-align: right;\n",
       "    }\n",
       "</style>\n",
       "<table border=\"1\" class=\"dataframe\">\n",
       "  <thead>\n",
       "    <tr style=\"text-align: right;\">\n",
       "      <th></th>\n",
       "      <th>vehicle_model_id</th>\n",
       "      <th>travel_type_id</th>\n",
       "      <th>from_area_id</th>\n",
       "      <th>from_date</th>\n",
       "      <th>online_booking</th>\n",
       "      <th>mobile_site_booking</th>\n",
       "      <th>booking_created</th>\n",
       "      <th>from_lat</th>\n",
       "      <th>from_long</th>\n",
       "      <th>diff_booking_and_tripstart_inhrs</th>\n",
       "    </tr>\n",
       "  </thead>\n",
       "  <tbody>\n",
       "    <tr>\n",
       "      <th>12653</th>\n",
       "      <td>12</td>\n",
       "      <td>2</td>\n",
       "      <td>393.0</td>\n",
       "      <td>2013-05-08 05:00:00</td>\n",
       "      <td>0</td>\n",
       "      <td>0</td>\n",
       "      <td>2013-05-07 22:20:00</td>\n",
       "      <td>13.199560</td>\n",
       "      <td>77.706880</td>\n",
       "      <td>6.667</td>\n",
       "    </tr>\n",
       "    <tr>\n",
       "      <th>7519</th>\n",
       "      <td>85</td>\n",
       "      <td>2</td>\n",
       "      <td>393.0</td>\n",
       "      <td>2013-03-21 22:45:00</td>\n",
       "      <td>0</td>\n",
       "      <td>0</td>\n",
       "      <td>2013-03-21 15:33:00</td>\n",
       "      <td>13.199560</td>\n",
       "      <td>77.706880</td>\n",
       "      <td>7.200</td>\n",
       "    </tr>\n",
       "    <tr>\n",
       "      <th>28752</th>\n",
       "      <td>12</td>\n",
       "      <td>2</td>\n",
       "      <td>352.0</td>\n",
       "      <td>2013-08-19 07:30:00</td>\n",
       "      <td>1</td>\n",
       "      <td>0</td>\n",
       "      <td>2013-08-19 00:06:00</td>\n",
       "      <td>13.033690</td>\n",
       "      <td>77.628210</td>\n",
       "      <td>7.400</td>\n",
       "    </tr>\n",
       "    <tr>\n",
       "      <th>39437</th>\n",
       "      <td>12</td>\n",
       "      <td>1</td>\n",
       "      <td>1396.0</td>\n",
       "      <td>2013-10-25 22:00:00</td>\n",
       "      <td>0</td>\n",
       "      <td>0</td>\n",
       "      <td>2013-10-25 16:55:00</td>\n",
       "      <td>12.982259</td>\n",
       "      <td>77.636306</td>\n",
       "      <td>5.083</td>\n",
       "    </tr>\n",
       "    <tr>\n",
       "      <th>32544</th>\n",
       "      <td>12</td>\n",
       "      <td>2</td>\n",
       "      <td>571.0</td>\n",
       "      <td>2013-09-10 08:00:00</td>\n",
       "      <td>1</td>\n",
       "      <td>0</td>\n",
       "      <td>2013-09-09 18:36:00</td>\n",
       "      <td>12.951850</td>\n",
       "      <td>77.696420</td>\n",
       "      <td>13.400</td>\n",
       "    </tr>\n",
       "  </tbody>\n",
       "</table>\n",
       "</div>"
      ],
      "text/plain": [
       "       vehicle_model_id  travel_type_id  from_area_id           from_date  \\\n",
       "12653                12               2         393.0 2013-05-08 05:00:00   \n",
       "7519                 85               2         393.0 2013-03-21 22:45:00   \n",
       "28752                12               2         352.0 2013-08-19 07:30:00   \n",
       "39437                12               1        1396.0 2013-10-25 22:00:00   \n",
       "32544                12               2         571.0 2013-09-10 08:00:00   \n",
       "\n",
       "       online_booking  mobile_site_booking     booking_created   from_lat  \\\n",
       "12653               0                    0 2013-05-07 22:20:00  13.199560   \n",
       "7519                0                    0 2013-03-21 15:33:00  13.199560   \n",
       "28752               1                    0 2013-08-19 00:06:00  13.033690   \n",
       "39437               0                    0 2013-10-25 16:55:00  12.982259   \n",
       "32544               1                    0 2013-09-09 18:36:00  12.951850   \n",
       "\n",
       "       from_long  diff_booking_and_tripstart_inhrs  \n",
       "12653  77.706880                             6.667  \n",
       "7519   77.706880                             7.200  \n",
       "28752  77.628210                             7.400  \n",
       "39437  77.636306                             5.083  \n",
       "32544  77.696420                            13.400  "
      ]
     },
     "execution_count": 44,
     "metadata": {},
     "output_type": "execute_result"
    }
   ],
   "source": [
    "#subtracting the columns to get a new column\n",
    "xtrain[\"diff_booking_and_tripstart_inhrs\"]=(xtrain[\"from_date\"]-xtrain[\"booking_created\"]).dt.total_seconds()/60/60\n",
    "xtrain[\"diff_booking_and_tripstart_inhrs\"]=xtrain[\"diff_booking_and_tripstart_inhrs\"].round(decimals = 3)\n",
    "xtrain.head()\n"
   ]
  },
  {
   "cell_type": "code",
   "execution_count": 45,
   "id": "0e9613b7",
   "metadata": {},
   "outputs": [
    {
     "data": {
      "text/html": [
       "<div>\n",
       "<style scoped>\n",
       "    .dataframe tbody tr th:only-of-type {\n",
       "        vertical-align: middle;\n",
       "    }\n",
       "\n",
       "    .dataframe tbody tr th {\n",
       "        vertical-align: top;\n",
       "    }\n",
       "\n",
       "    .dataframe thead th {\n",
       "        text-align: right;\n",
       "    }\n",
       "</style>\n",
       "<table border=\"1\" class=\"dataframe\">\n",
       "  <thead>\n",
       "    <tr style=\"text-align: right;\">\n",
       "      <th></th>\n",
       "      <th>vehicle_model_id</th>\n",
       "      <th>travel_type_id</th>\n",
       "      <th>from_area_id</th>\n",
       "      <th>from_date</th>\n",
       "      <th>online_booking</th>\n",
       "      <th>mobile_site_booking</th>\n",
       "      <th>booking_created</th>\n",
       "      <th>from_lat</th>\n",
       "      <th>from_long</th>\n",
       "      <th>diff_booking_and_tripstart_inhrs</th>\n",
       "    </tr>\n",
       "  </thead>\n",
       "  <tbody>\n",
       "    <tr>\n",
       "      <th>6198</th>\n",
       "      <td>12</td>\n",
       "      <td>2</td>\n",
       "      <td>1226.0</td>\n",
       "      <td>2013-03-05 19:45:00</td>\n",
       "      <td>1</td>\n",
       "      <td>0</td>\n",
       "      <td>2013-03-05 10:18:00</td>\n",
       "      <td>13.01508</td>\n",
       "      <td>77.67796</td>\n",
       "      <td>9.450</td>\n",
       "    </tr>\n",
       "    <tr>\n",
       "      <th>16415</th>\n",
       "      <td>12</td>\n",
       "      <td>3</td>\n",
       "      <td>722.0</td>\n",
       "      <td>2013-06-02 12:45:00</td>\n",
       "      <td>0</td>\n",
       "      <td>0</td>\n",
       "      <td>2013-06-02 11:39:00</td>\n",
       "      <td>12.91567</td>\n",
       "      <td>77.55465</td>\n",
       "      <td>1.100</td>\n",
       "    </tr>\n",
       "    <tr>\n",
       "      <th>24605</th>\n",
       "      <td>12</td>\n",
       "      <td>2</td>\n",
       "      <td>590.0</td>\n",
       "      <td>2013-07-26 16:00:00</td>\n",
       "      <td>0</td>\n",
       "      <td>0</td>\n",
       "      <td>2013-07-26 13:35:00</td>\n",
       "      <td>13.00826</td>\n",
       "      <td>77.56433</td>\n",
       "      <td>2.417</td>\n",
       "    </tr>\n",
       "    <tr>\n",
       "      <th>27112</th>\n",
       "      <td>85</td>\n",
       "      <td>1</td>\n",
       "      <td>357.0</td>\n",
       "      <td>2013-08-25 07:30:00</td>\n",
       "      <td>0</td>\n",
       "      <td>0</td>\n",
       "      <td>2013-08-09 20:58:00</td>\n",
       "      <td>13.03064</td>\n",
       "      <td>77.64910</td>\n",
       "      <td>370.533</td>\n",
       "    </tr>\n",
       "    <tr>\n",
       "      <th>19316</th>\n",
       "      <td>12</td>\n",
       "      <td>3</td>\n",
       "      <td>376.0</td>\n",
       "      <td>2013-06-23 07:00:00</td>\n",
       "      <td>0</td>\n",
       "      <td>0</td>\n",
       "      <td>2013-06-22 07:35:00</td>\n",
       "      <td>12.90245</td>\n",
       "      <td>77.66081</td>\n",
       "      <td>23.417</td>\n",
       "    </tr>\n",
       "  </tbody>\n",
       "</table>\n",
       "</div>"
      ],
      "text/plain": [
       "       vehicle_model_id  travel_type_id  from_area_id           from_date  \\\n",
       "6198                 12               2        1226.0 2013-03-05 19:45:00   \n",
       "16415                12               3         722.0 2013-06-02 12:45:00   \n",
       "24605                12               2         590.0 2013-07-26 16:00:00   \n",
       "27112                85               1         357.0 2013-08-25 07:30:00   \n",
       "19316                12               3         376.0 2013-06-23 07:00:00   \n",
       "\n",
       "       online_booking  mobile_site_booking     booking_created  from_lat  \\\n",
       "6198                1                    0 2013-03-05 10:18:00  13.01508   \n",
       "16415               0                    0 2013-06-02 11:39:00  12.91567   \n",
       "24605               0                    0 2013-07-26 13:35:00  13.00826   \n",
       "27112               0                    0 2013-08-09 20:58:00  13.03064   \n",
       "19316               0                    0 2013-06-22 07:35:00  12.90245   \n",
       "\n",
       "       from_long  diff_booking_and_tripstart_inhrs  \n",
       "6198    77.67796                             9.450  \n",
       "16415   77.55465                             1.100  \n",
       "24605   77.56433                             2.417  \n",
       "27112   77.64910                           370.533  \n",
       "19316   77.66081                            23.417  "
      ]
     },
     "execution_count": 45,
     "metadata": {},
     "output_type": "execute_result"
    }
   ],
   "source": [
    "#doing the same for testing data\n",
    "xtest[\"diff_booking_and_tripstart_inhrs\"]=(xtest[\"from_date\"]-xtest[\"booking_created\"]).dt.total_seconds()/60/60\n",
    "xtest[\"diff_booking_and_tripstart_inhrs\"]=xtest[\"diff_booking_and_tripstart_inhrs\"].round(decimals = 3)\n",
    "xtest.head()"
   ]
  },
  {
   "cell_type": "code",
   "execution_count": 46,
   "id": "d6dd510b",
   "metadata": {},
   "outputs": [
    {
     "data": {
      "text/html": [
       "<div>\n",
       "<style scoped>\n",
       "    .dataframe tbody tr th:only-of-type {\n",
       "        vertical-align: middle;\n",
       "    }\n",
       "\n",
       "    .dataframe tbody tr th {\n",
       "        vertical-align: top;\n",
       "    }\n",
       "\n",
       "    .dataframe thead th {\n",
       "        text-align: right;\n",
       "    }\n",
       "</style>\n",
       "<table border=\"1\" class=\"dataframe\">\n",
       "  <thead>\n",
       "    <tr style=\"text-align: right;\">\n",
       "      <th></th>\n",
       "      <th>vehicle_model_id</th>\n",
       "      <th>travel_type_id</th>\n",
       "      <th>from_area_id</th>\n",
       "      <th>online_booking</th>\n",
       "      <th>mobile_site_booking</th>\n",
       "      <th>from_lat</th>\n",
       "      <th>from_long</th>\n",
       "      <th>diff_booking_and_tripstart_inhrs</th>\n",
       "    </tr>\n",
       "  </thead>\n",
       "  <tbody>\n",
       "    <tr>\n",
       "      <th>12653</th>\n",
       "      <td>12</td>\n",
       "      <td>2</td>\n",
       "      <td>393.0</td>\n",
       "      <td>0</td>\n",
       "      <td>0</td>\n",
       "      <td>13.199560</td>\n",
       "      <td>77.706880</td>\n",
       "      <td>6.667</td>\n",
       "    </tr>\n",
       "    <tr>\n",
       "      <th>7519</th>\n",
       "      <td>85</td>\n",
       "      <td>2</td>\n",
       "      <td>393.0</td>\n",
       "      <td>0</td>\n",
       "      <td>0</td>\n",
       "      <td>13.199560</td>\n",
       "      <td>77.706880</td>\n",
       "      <td>7.200</td>\n",
       "    </tr>\n",
       "    <tr>\n",
       "      <th>28752</th>\n",
       "      <td>12</td>\n",
       "      <td>2</td>\n",
       "      <td>352.0</td>\n",
       "      <td>1</td>\n",
       "      <td>0</td>\n",
       "      <td>13.033690</td>\n",
       "      <td>77.628210</td>\n",
       "      <td>7.400</td>\n",
       "    </tr>\n",
       "    <tr>\n",
       "      <th>39437</th>\n",
       "      <td>12</td>\n",
       "      <td>1</td>\n",
       "      <td>1396.0</td>\n",
       "      <td>0</td>\n",
       "      <td>0</td>\n",
       "      <td>12.982259</td>\n",
       "      <td>77.636306</td>\n",
       "      <td>5.083</td>\n",
       "    </tr>\n",
       "    <tr>\n",
       "      <th>32544</th>\n",
       "      <td>12</td>\n",
       "      <td>2</td>\n",
       "      <td>571.0</td>\n",
       "      <td>1</td>\n",
       "      <td>0</td>\n",
       "      <td>12.951850</td>\n",
       "      <td>77.696420</td>\n",
       "      <td>13.400</td>\n",
       "    </tr>\n",
       "  </tbody>\n",
       "</table>\n",
       "</div>"
      ],
      "text/plain": [
       "       vehicle_model_id  travel_type_id  from_area_id  online_booking  \\\n",
       "12653                12               2         393.0               0   \n",
       "7519                 85               2         393.0               0   \n",
       "28752                12               2         352.0               1   \n",
       "39437                12               1        1396.0               0   \n",
       "32544                12               2         571.0               1   \n",
       "\n",
       "       mobile_site_booking   from_lat  from_long  \\\n",
       "12653                    0  13.199560  77.706880   \n",
       "7519                     0  13.199560  77.706880   \n",
       "28752                    0  13.033690  77.628210   \n",
       "39437                    0  12.982259  77.636306   \n",
       "32544                    0  12.951850  77.696420   \n",
       "\n",
       "       diff_booking_and_tripstart_inhrs  \n",
       "12653                             6.667  \n",
       "7519                              7.200  \n",
       "28752                             7.400  \n",
       "39437                             5.083  \n",
       "32544                            13.400  "
      ]
     },
     "execution_count": 46,
     "metadata": {},
     "output_type": "execute_result"
    }
   ],
   "source": [
    "#Now we will drop those columns and only keep the column with their differences\n",
    "xtrain.drop(['from_date', 'booking_created'],inplace=True,axis=1)\n",
    "xtrain.head()\n"
   ]
  },
  {
   "cell_type": "code",
   "execution_count": 47,
   "id": "9ff46cc2",
   "metadata": {},
   "outputs": [
    {
     "data": {
      "text/html": [
       "<div>\n",
       "<style scoped>\n",
       "    .dataframe tbody tr th:only-of-type {\n",
       "        vertical-align: middle;\n",
       "    }\n",
       "\n",
       "    .dataframe tbody tr th {\n",
       "        vertical-align: top;\n",
       "    }\n",
       "\n",
       "    .dataframe thead th {\n",
       "        text-align: right;\n",
       "    }\n",
       "</style>\n",
       "<table border=\"1\" class=\"dataframe\">\n",
       "  <thead>\n",
       "    <tr style=\"text-align: right;\">\n",
       "      <th></th>\n",
       "      <th>vehicle_model_id</th>\n",
       "      <th>travel_type_id</th>\n",
       "      <th>from_area_id</th>\n",
       "      <th>online_booking</th>\n",
       "      <th>mobile_site_booking</th>\n",
       "      <th>from_lat</th>\n",
       "      <th>from_long</th>\n",
       "      <th>diff_booking_and_tripstart_inhrs</th>\n",
       "    </tr>\n",
       "  </thead>\n",
       "  <tbody>\n",
       "    <tr>\n",
       "      <th>6198</th>\n",
       "      <td>12</td>\n",
       "      <td>2</td>\n",
       "      <td>1226.0</td>\n",
       "      <td>1</td>\n",
       "      <td>0</td>\n",
       "      <td>13.01508</td>\n",
       "      <td>77.67796</td>\n",
       "      <td>9.450</td>\n",
       "    </tr>\n",
       "    <tr>\n",
       "      <th>16415</th>\n",
       "      <td>12</td>\n",
       "      <td>3</td>\n",
       "      <td>722.0</td>\n",
       "      <td>0</td>\n",
       "      <td>0</td>\n",
       "      <td>12.91567</td>\n",
       "      <td>77.55465</td>\n",
       "      <td>1.100</td>\n",
       "    </tr>\n",
       "    <tr>\n",
       "      <th>24605</th>\n",
       "      <td>12</td>\n",
       "      <td>2</td>\n",
       "      <td>590.0</td>\n",
       "      <td>0</td>\n",
       "      <td>0</td>\n",
       "      <td>13.00826</td>\n",
       "      <td>77.56433</td>\n",
       "      <td>2.417</td>\n",
       "    </tr>\n",
       "    <tr>\n",
       "      <th>27112</th>\n",
       "      <td>85</td>\n",
       "      <td>1</td>\n",
       "      <td>357.0</td>\n",
       "      <td>0</td>\n",
       "      <td>0</td>\n",
       "      <td>13.03064</td>\n",
       "      <td>77.64910</td>\n",
       "      <td>370.533</td>\n",
       "    </tr>\n",
       "    <tr>\n",
       "      <th>19316</th>\n",
       "      <td>12</td>\n",
       "      <td>3</td>\n",
       "      <td>376.0</td>\n",
       "      <td>0</td>\n",
       "      <td>0</td>\n",
       "      <td>12.90245</td>\n",
       "      <td>77.66081</td>\n",
       "      <td>23.417</td>\n",
       "    </tr>\n",
       "  </tbody>\n",
       "</table>\n",
       "</div>"
      ],
      "text/plain": [
       "       vehicle_model_id  travel_type_id  from_area_id  online_booking  \\\n",
       "6198                 12               2        1226.0               1   \n",
       "16415                12               3         722.0               0   \n",
       "24605                12               2         590.0               0   \n",
       "27112                85               1         357.0               0   \n",
       "19316                12               3         376.0               0   \n",
       "\n",
       "       mobile_site_booking  from_lat  from_long  \\\n",
       "6198                     0  13.01508   77.67796   \n",
       "16415                    0  12.91567   77.55465   \n",
       "24605                    0  13.00826   77.56433   \n",
       "27112                    0  13.03064   77.64910   \n",
       "19316                    0  12.90245   77.66081   \n",
       "\n",
       "       diff_booking_and_tripstart_inhrs  \n",
       "6198                              9.450  \n",
       "16415                             1.100  \n",
       "24605                             2.417  \n",
       "27112                           370.533  \n",
       "19316                            23.417  "
      ]
     },
     "execution_count": 47,
     "metadata": {},
     "output_type": "execute_result"
    }
   ],
   "source": [
    "#dropping for testing data also\n",
    "xtest.drop(['from_date', 'booking_created'],inplace=True,axis=1)\n",
    "xtest.head()"
   ]
  },
  {
   "cell_type": "code",
   "execution_count": 48,
   "id": "4a1347af",
   "metadata": {},
   "outputs": [
    {
     "name": "stdout",
     "output_type": "stream",
     "text": [
      "<class 'pandas.core.frame.DataFrame'>\n",
      "Int64Index: 30401 entries, 12653 to 7624\n",
      "Data columns (total 8 columns):\n",
      " #   Column                            Non-Null Count  Dtype  \n",
      "---  ------                            --------------  -----  \n",
      " 0   vehicle_model_id                  30401 non-null  int64  \n",
      " 1   travel_type_id                    30401 non-null  int64  \n",
      " 2   from_area_id                      30401 non-null  float64\n",
      " 3   online_booking                    30401 non-null  int64  \n",
      " 4   mobile_site_booking               30401 non-null  int64  \n",
      " 5   from_lat                          30401 non-null  float64\n",
      " 6   from_long                         30401 non-null  float64\n",
      " 7   diff_booking_and_tripstart_inhrs  30401 non-null  float64\n",
      "dtypes: float64(4), int64(4)\n",
      "memory usage: 2.1 MB\n"
     ]
    }
   ],
   "source": [
    "#again checking datatypes and null values\n",
    "xtrain.info()"
   ]
  },
  {
   "cell_type": "code",
   "execution_count": 49,
   "id": "d9bfc0c5",
   "metadata": {},
   "outputs": [
    {
     "name": "stdout",
     "output_type": "stream",
     "text": [
      "<class 'pandas.core.frame.DataFrame'>\n",
      "Int64Index: 13030 entries, 6198 to 38821\n",
      "Data columns (total 8 columns):\n",
      " #   Column                            Non-Null Count  Dtype  \n",
      "---  ------                            --------------  -----  \n",
      " 0   vehicle_model_id                  13030 non-null  int64  \n",
      " 1   travel_type_id                    13030 non-null  int64  \n",
      " 2   from_area_id                      13030 non-null  float64\n",
      " 3   online_booking                    13030 non-null  int64  \n",
      " 4   mobile_site_booking               13030 non-null  int64  \n",
      " 5   from_lat                          13030 non-null  float64\n",
      " 6   from_long                         13030 non-null  float64\n",
      " 7   diff_booking_and_tripstart_inhrs  13030 non-null  float64\n",
      "dtypes: float64(4), int64(4)\n",
      "memory usage: 916.2 KB\n"
     ]
    }
   ],
   "source": [
    "xtest.info()"
   ]
  },
  {
   "cell_type": "code",
   "execution_count": null,
   "id": "94c2ff8c",
   "metadata": {},
   "outputs": [],
   "source": []
  },
  {
   "cell_type": "code",
   "execution_count": null,
   "id": "f055e9b0",
   "metadata": {},
   "outputs": [],
   "source": []
  },
  {
   "cell_type": "code",
   "execution_count": null,
   "id": "d685764c",
   "metadata": {},
   "outputs": [],
   "source": []
  },
  {
   "cell_type": "markdown",
   "id": "a60fa289",
   "metadata": {},
   "source": [
    "# Correlation Analysis (of the final numerical columns)"
   ]
  },
  {
   "cell_type": "code",
   "execution_count": 50,
   "id": "dfa4048d",
   "metadata": {},
   "outputs": [
    {
     "data": {
      "image/png": "[encoded data removed]",
      "text/plain": [
       "<Figure size 640x480 with 2 Axes>"
      ]
     },
     "metadata": {},
     "output_type": "display_data"
    }
   ],
   "source": [
    "sns.heatmap(xtrain.corr(),annot=True, cmap=\"YlGnBu\")\n",
    "plt.show()"
   ]
  },
  {
   "cell_type": "code",
   "execution_count": 51,
   "id": "ce1c62ce",
   "metadata": {},
   "outputs": [],
   "source": [
    "#since none of the features are in high corr with one another, we are good to go with further analysis"
   ]
  },
  {
   "cell_type": "markdown",
   "id": "7f65e3c4",
   "metadata": {},
   "source": [
    "# Visualization"
   ]
  },
  {
   "cell_type": "code",
   "execution_count": 52,
   "id": "06fa026d",
   "metadata": {},
   "outputs": [],
   "source": [
    "target = df[\"Car_Cancellation\"]"
   ]
  },
  {
   "cell_type": "code",
   "execution_count": 53,
   "id": "cf54b022",
   "metadata": {},
   "outputs": [
    {
     "data": {
      "image/png": "[encoded data removed]",
      "text/plain": [
       "<Figure size 1000x800 with 1 Axes>"
      ]
     },
     "metadata": {},
     "output_type": "display_data"
    }
   ],
   "source": [
    "#Analysing vehicle_model_id\n",
    "bookings= df['vehicle_model_id'].value_counts()\n",
    "cancelled= df[target==1]['vehicle_model_id'].value_counts()\n",
    "df1=pd.DataFrame([bookings,cancelled])\n",
    "df1.index=['Booked','Cancelled']\n",
    "df1.plot(kind='bar',stacked=True,figsize=(10,8))\n",
    "plt.xticks(rotation=30)\n",
    "plt.show()"
   ]
  },
  {
   "cell_type": "code",
   "execution_count": 54,
   "id": "6f7f9a15",
   "metadata": {},
   "outputs": [
    {
     "data": {
      "image/png": "[encoded data removed]",
      "text/plain": [
       "<Figure size 800x500 with 1 Axes>"
      ]
     },
     "metadata": {},
     "output_type": "display_data"
    }
   ],
   "source": [
    "#Analysing travel_type_id\n",
    "all_bookings= df['travel_type_id'].value_counts()\n",
    "cancelled= df[target==1]['travel_type_id'].value_counts()\n",
    "df1=pd.DataFrame([all_bookings,cancelled])\n",
    "df1.index=['Booked','Cancelled']\n",
    "df1.plot(kind='bar',stacked=True,figsize=(8,5), color = [\"pink\", \"grey\", \"black\"])\n",
    "plt.xticks(rotation=30)\n",
    "plt.show()"
   ]
  },
  {
   "cell_type": "code",
   "execution_count": 55,
   "id": "b9f04a1d",
   "metadata": {},
   "outputs": [
    {
     "data": {
      "image/png": "[encoded data removed]",
      "text/plain": [
       "<Figure size 800x500 with 1 Axes>"
      ]
     },
     "metadata": {},
     "output_type": "display_data"
    }
   ],
   "source": [
    "#Analysing online_booking\n",
    "all_bookings= df['online_booking'].value_counts()\n",
    "cancelled= df[target==1]['online_booking'].value_counts()\n",
    "df1=pd.DataFrame([all_bookings,cancelled])\n",
    "df1.index=['Booked','Cancelled']\n",
    "df1.plot(kind='bar',stacked=True,figsize=(8,5), color = [\"black\", \"yellow\"])\n",
    "plt.xticks(rotation=30)\n",
    "plt.show()"
   ]
  },
  {
   "cell_type": "code",
   "execution_count": 56,
   "id": "d85c7bd9",
   "metadata": {},
   "outputs": [
    {
     "data": {
      "image/png": "[encoded data removed]",
      "text/plain": [
       "<Figure size 800x500 with 1 Axes>"
      ]
     },
     "metadata": {},
     "output_type": "display_data"
    }
   ],
   "source": [
    "all_bookings= df['mobile_site_booking'].value_counts()\n",
    "cancelled= df[target==1]['mobile_site_booking'].value_counts()\n",
    "df1=pd.DataFrame([all_bookings,cancelled])\n",
    "df1.index=['Booked','Cancelled']\n",
    "df1.plot(kind='bar',stacked=True,figsize=(8,5), color = [\"red\", \"black\"])\n",
    "plt.xticks(rotation=30)\n",
    "plt.show()"
   ]
  },
  {
   "cell_type": "markdown",
   "id": "10c5d1e0",
   "metadata": {},
   "source": [
    "# Scaling the data (using minmax scaler)"
   ]
  },
  {
   "cell_type": "code",
   "execution_count": 57,
   "id": "18c51707",
   "metadata": {},
   "outputs": [],
   "source": [
    "from sklearn.preprocessing import MinMaxScaler"
   ]
  },
  {
   "cell_type": "code",
   "execution_count": 58,
   "id": "cc52e5b7",
   "metadata": {},
   "outputs": [
    {
     "data": {
      "text/plain": [
       "array([[0.12222222, 0.5       , 0.27908637, ..., 0.7175091 , 0.80089614,\n",
       "        0.01532128],\n",
       "       [0.93333333, 0.5       , 0.27908637, ..., 0.7175091 , 0.80089614,\n",
       "        0.01559747],\n",
       "       [0.12222222, 0.5       , 0.24982156, ..., 0.43610737, 0.60397006,\n",
       "        0.01570111],\n",
       "       ...,\n",
       "       [0.12222222, 0.5       , 0.83154889, ..., 0.37957933, 0.85241183,\n",
       "        0.01943207],\n",
       "       [0.12222222, 1.        , 0.56459672, ..., 0.4169367 , 0.52063881,\n",
       "        0.01221215],\n",
       "       [0.12222222, 0.5       , 0.49036403, ..., 0.33945664, 0.65668728,\n",
       "        0.01389626]])"
      ]
     },
     "execution_count": 58,
     "metadata": {},
     "output_type": "execute_result"
    }
   ],
   "source": [
    "scaler = MinMaxScaler()\n",
    "scaler.fit(xtrain)\n",
    "scaled_features = scaler.transform(xtrain)\n",
    "scaled_features"
   ]
  },
  {
   "cell_type": "code",
   "execution_count": 59,
   "id": "8a6ff581",
   "metadata": {},
   "outputs": [
    {
     "data": {
      "text/plain": [
       "array([[0.02469136, 0.5       , 0.87491065, ..., 0.51049026, 0.72850384,\n",
       "        0.01484591],\n",
       "       [0.02469136, 1.        , 0.51465332, ..., 0.29766645, 0.41983529,\n",
       "        0.0082811 ],\n",
       "       [0.02469136, 0.5       , 0.42030021, ..., 0.49588953, 0.44406618,\n",
       "        0.00931653],\n",
       "       ...,\n",
       "       [0.02469136, 0.5       , 0.884203  , ..., 0.41935346, 0.58226739,\n",
       "        0.00942109],\n",
       "       [0.02469136, 0.5       , 0.13009292, ..., 0.38980946, 0.44166312,\n",
       "        0.02268201],\n",
       "       [0.97530864, 0.5       , 0.27948535, ..., 0.90543781, 0.80089614,\n",
       "        0.00997144]])"
      ]
     },
     "execution_count": 59,
     "metadata": {},
     "output_type": "execute_result"
    }
   ],
   "source": [
    "scaler1 = MinMaxScaler()\n",
    "scaler.fit(xtest)\n",
    "scaled_features1 = scaler.transform(xtest)\n",
    "scaled_features1"
   ]
  },
  {
   "cell_type": "code",
   "execution_count": 60,
   "id": "2da7da79",
   "metadata": {},
   "outputs": [
    {
     "data": {
      "text/html": [
       "<div>\n",
       "<style scoped>\n",
       "    .dataframe tbody tr th:only-of-type {\n",
       "        vertical-align: middle;\n",
       "    }\n",
       "\n",
       "    .dataframe tbody tr th {\n",
       "        vertical-align: top;\n",
       "    }\n",
       "\n",
       "    .dataframe thead th {\n",
       "        text-align: right;\n",
       "    }\n",
       "</style>\n",
       "<table border=\"1\" class=\"dataframe\">\n",
       "  <thead>\n",
       "    <tr style=\"text-align: right;\">\n",
       "      <th></th>\n",
       "      <th>vehicle_model_id</th>\n",
       "      <th>travel_type_id</th>\n",
       "      <th>from_area_id</th>\n",
       "      <th>online_booking</th>\n",
       "      <th>mobile_site_booking</th>\n",
       "      <th>from_lat</th>\n",
       "      <th>from_long</th>\n",
       "      <th>diff_booking_and_tripstart_inhrs</th>\n",
       "    </tr>\n",
       "  </thead>\n",
       "  <tbody>\n",
       "    <tr>\n",
       "      <th>12653</th>\n",
       "      <td>12</td>\n",
       "      <td>2</td>\n",
       "      <td>393.0</td>\n",
       "      <td>0</td>\n",
       "      <td>0</td>\n",
       "      <td>13.199560</td>\n",
       "      <td>77.706880</td>\n",
       "      <td>6.667</td>\n",
       "    </tr>\n",
       "    <tr>\n",
       "      <th>7519</th>\n",
       "      <td>85</td>\n",
       "      <td>2</td>\n",
       "      <td>393.0</td>\n",
       "      <td>0</td>\n",
       "      <td>0</td>\n",
       "      <td>13.199560</td>\n",
       "      <td>77.706880</td>\n",
       "      <td>7.200</td>\n",
       "    </tr>\n",
       "    <tr>\n",
       "      <th>28752</th>\n",
       "      <td>12</td>\n",
       "      <td>2</td>\n",
       "      <td>352.0</td>\n",
       "      <td>1</td>\n",
       "      <td>0</td>\n",
       "      <td>13.033690</td>\n",
       "      <td>77.628210</td>\n",
       "      <td>7.400</td>\n",
       "    </tr>\n",
       "    <tr>\n",
       "      <th>39437</th>\n",
       "      <td>12</td>\n",
       "      <td>1</td>\n",
       "      <td>1396.0</td>\n",
       "      <td>0</td>\n",
       "      <td>0</td>\n",
       "      <td>12.982259</td>\n",
       "      <td>77.636306</td>\n",
       "      <td>5.083</td>\n",
       "    </tr>\n",
       "    <tr>\n",
       "      <th>32544</th>\n",
       "      <td>12</td>\n",
       "      <td>2</td>\n",
       "      <td>571.0</td>\n",
       "      <td>1</td>\n",
       "      <td>0</td>\n",
       "      <td>12.951850</td>\n",
       "      <td>77.696420</td>\n",
       "      <td>13.400</td>\n",
       "    </tr>\n",
       "  </tbody>\n",
       "</table>\n",
       "</div>"
      ],
      "text/plain": [
       "       vehicle_model_id  travel_type_id  from_area_id  online_booking  \\\n",
       "12653                12               2         393.0               0   \n",
       "7519                 85               2         393.0               0   \n",
       "28752                12               2         352.0               1   \n",
       "39437                12               1        1396.0               0   \n",
       "32544                12               2         571.0               1   \n",
       "\n",
       "       mobile_site_booking   from_lat  from_long  \\\n",
       "12653                    0  13.199560  77.706880   \n",
       "7519                     0  13.199560  77.706880   \n",
       "28752                    0  13.033690  77.628210   \n",
       "39437                    0  12.982259  77.636306   \n",
       "32544                    0  12.951850  77.696420   \n",
       "\n",
       "       diff_booking_and_tripstart_inhrs  \n",
       "12653                             6.667  \n",
       "7519                              7.200  \n",
       "28752                             7.400  \n",
       "39437                             5.083  \n",
       "32544                            13.400  "
      ]
     },
     "execution_count": 60,
     "metadata": {},
     "output_type": "execute_result"
    }
   ],
   "source": [
    "xtrain.head()"
   ]
  },
  {
   "cell_type": "code",
   "execution_count": 61,
   "id": "8e5006b4",
   "metadata": {},
   "outputs": [
    {
     "data": {
      "text/html": [
       "<div>\n",
       "<style scoped>\n",
       "    .dataframe tbody tr th:only-of-type {\n",
       "        vertical-align: middle;\n",
       "    }\n",
       "\n",
       "    .dataframe tbody tr th {\n",
       "        vertical-align: top;\n",
       "    }\n",
       "\n",
       "    .dataframe thead th {\n",
       "        text-align: right;\n",
       "    }\n",
       "</style>\n",
       "<table border=\"1\" class=\"dataframe\">\n",
       "  <thead>\n",
       "    <tr style=\"text-align: right;\">\n",
       "      <th></th>\n",
       "      <th>vehicle_model_id</th>\n",
       "      <th>travel_type_id</th>\n",
       "      <th>from_area_id</th>\n",
       "      <th>online_booking</th>\n",
       "      <th>mobile_site_booking</th>\n",
       "      <th>from_lat</th>\n",
       "      <th>from_long</th>\n",
       "      <th>diff_booking_and_tripstart_inhrs</th>\n",
       "    </tr>\n",
       "  </thead>\n",
       "  <tbody>\n",
       "    <tr>\n",
       "      <th>6198</th>\n",
       "      <td>12</td>\n",
       "      <td>2</td>\n",
       "      <td>1226.0</td>\n",
       "      <td>1</td>\n",
       "      <td>0</td>\n",
       "      <td>13.01508</td>\n",
       "      <td>77.67796</td>\n",
       "      <td>9.450</td>\n",
       "    </tr>\n",
       "    <tr>\n",
       "      <th>16415</th>\n",
       "      <td>12</td>\n",
       "      <td>3</td>\n",
       "      <td>722.0</td>\n",
       "      <td>0</td>\n",
       "      <td>0</td>\n",
       "      <td>12.91567</td>\n",
       "      <td>77.55465</td>\n",
       "      <td>1.100</td>\n",
       "    </tr>\n",
       "    <tr>\n",
       "      <th>24605</th>\n",
       "      <td>12</td>\n",
       "      <td>2</td>\n",
       "      <td>590.0</td>\n",
       "      <td>0</td>\n",
       "      <td>0</td>\n",
       "      <td>13.00826</td>\n",
       "      <td>77.56433</td>\n",
       "      <td>2.417</td>\n",
       "    </tr>\n",
       "    <tr>\n",
       "      <th>27112</th>\n",
       "      <td>85</td>\n",
       "      <td>1</td>\n",
       "      <td>357.0</td>\n",
       "      <td>0</td>\n",
       "      <td>0</td>\n",
       "      <td>13.03064</td>\n",
       "      <td>77.64910</td>\n",
       "      <td>370.533</td>\n",
       "    </tr>\n",
       "    <tr>\n",
       "      <th>19316</th>\n",
       "      <td>12</td>\n",
       "      <td>3</td>\n",
       "      <td>376.0</td>\n",
       "      <td>0</td>\n",
       "      <td>0</td>\n",
       "      <td>12.90245</td>\n",
       "      <td>77.66081</td>\n",
       "      <td>23.417</td>\n",
       "    </tr>\n",
       "    <tr>\n",
       "      <th>...</th>\n",
       "      <td>...</td>\n",
       "      <td>...</td>\n",
       "      <td>...</td>\n",
       "      <td>...</td>\n",
       "      <td>...</td>\n",
       "      <td>...</td>\n",
       "      <td>...</td>\n",
       "      <td>...</td>\n",
       "    </tr>\n",
       "    <tr>\n",
       "      <th>9854</th>\n",
       "      <td>85</td>\n",
       "      <td>3</td>\n",
       "      <td>520.0</td>\n",
       "      <td>1</td>\n",
       "      <td>0</td>\n",
       "      <td>12.92598</td>\n",
       "      <td>77.61837</td>\n",
       "      <td>16.817</td>\n",
       "    </tr>\n",
       "    <tr>\n",
       "      <th>14754</th>\n",
       "      <td>28</td>\n",
       "      <td>2</td>\n",
       "      <td>1096.0</td>\n",
       "      <td>0</td>\n",
       "      <td>0</td>\n",
       "      <td>12.96519</td>\n",
       "      <td>77.71932</td>\n",
       "      <td>6.817</td>\n",
       "    </tr>\n",
       "    <tr>\n",
       "      <th>3049</th>\n",
       "      <td>12</td>\n",
       "      <td>2</td>\n",
       "      <td>1239.0</td>\n",
       "      <td>0</td>\n",
       "      <td>0</td>\n",
       "      <td>12.97251</td>\n",
       "      <td>77.61954</td>\n",
       "      <td>2.550</td>\n",
       "    </tr>\n",
       "    <tr>\n",
       "      <th>18002</th>\n",
       "      <td>12</td>\n",
       "      <td>2</td>\n",
       "      <td>184.0</td>\n",
       "      <td>1</td>\n",
       "      <td>0</td>\n",
       "      <td>12.95871</td>\n",
       "      <td>77.56337</td>\n",
       "      <td>19.417</td>\n",
       "    </tr>\n",
       "    <tr>\n",
       "      <th>38821</th>\n",
       "      <td>89</td>\n",
       "      <td>2</td>\n",
       "      <td>393.0</td>\n",
       "      <td>0</td>\n",
       "      <td>0</td>\n",
       "      <td>13.19956</td>\n",
       "      <td>77.70688</td>\n",
       "      <td>3.250</td>\n",
       "    </tr>\n",
       "  </tbody>\n",
       "</table>\n",
       "<p>13030 rows × 8 columns</p>\n",
       "</div>"
      ],
      "text/plain": [
       "       vehicle_model_id  travel_type_id  from_area_id  online_booking  \\\n",
       "6198                 12               2        1226.0               1   \n",
       "16415                12               3         722.0               0   \n",
       "24605                12               2         590.0               0   \n",
       "27112                85               1         357.0               0   \n",
       "19316                12               3         376.0               0   \n",
       "...                 ...             ...           ...             ...   \n",
       "9854                 85               3         520.0               1   \n",
       "14754                28               2        1096.0               0   \n",
       "3049                 12               2        1239.0               0   \n",
       "18002                12               2         184.0               1   \n",
       "38821                89               2         393.0               0   \n",
       "\n",
       "       mobile_site_booking  from_lat  from_long  \\\n",
       "6198                     0  13.01508   77.67796   \n",
       "16415                    0  12.91567   77.55465   \n",
       "24605                    0  13.00826   77.56433   \n",
       "27112                    0  13.03064   77.64910   \n",
       "19316                    0  12.90245   77.66081   \n",
       "...                    ...       ...        ...   \n",
       "9854                     0  12.92598   77.61837   \n",
       "14754                    0  12.96519   77.71932   \n",
       "3049                     0  12.97251   77.61954   \n",
       "18002                    0  12.95871   77.56337   \n",
       "38821                    0  13.19956   77.70688   \n",
       "\n",
       "       diff_booking_and_tripstart_inhrs  \n",
       "6198                              9.450  \n",
       "16415                             1.100  \n",
       "24605                             2.417  \n",
       "27112                           370.533  \n",
       "19316                            23.417  \n",
       "...                                 ...  \n",
       "9854                             16.817  \n",
       "14754                             6.817  \n",
       "3049                              2.550  \n",
       "18002                            19.417  \n",
       "38821                             3.250  \n",
       "\n",
       "[13030 rows x 8 columns]"
      ]
     },
     "execution_count": 61,
     "metadata": {},
     "output_type": "execute_result"
    }
   ],
   "source": [
    "xtest"
   ]
  },
  {
   "cell_type": "code",
   "execution_count": 62,
   "id": "2d73e916",
   "metadata": {},
   "outputs": [],
   "source": [
    "# Now we are done with the Data Preprocessing and we can go ahead and apply various classification ml algorithms.\n",
    "#We will apply various algorithms and check the accuracy scores for all to see which one is the best for this problem."
   ]
  },
  {
   "cell_type": "code",
   "execution_count": null,
   "id": "7bb35581",
   "metadata": {},
   "outputs": [],
   "source": []
  },
  {
   "cell_type": "code",
   "execution_count": null,
   "id": "91b92605",
   "metadata": {},
   "outputs": [],
   "source": []
  },
  {
   "cell_type": "markdown",
   "id": "43f86cd3",
   "metadata": {},
   "source": [
    "# Applying various ML Algorithms."
   ]
  },
  {
   "cell_type": "markdown",
   "id": "72cf9a95",
   "metadata": {},
   "source": [
    "# Logistic Regression"
   ]
  },
  {
   "cell_type": "code",
   "execution_count": 63,
   "id": "a0d339cf",
   "metadata": {},
   "outputs": [],
   "source": [
    "from sklearn.linear_model import LogisticRegression\n",
    "from matplotlib.colors import ListedColormap\n",
    "from sklearn import metrics"
   ]
  },
  {
   "cell_type": "code",
   "execution_count": 64,
   "id": "b71bf049",
   "metadata": {},
   "outputs": [
    {
     "data": {
      "text/plain": [
       "LogisticRegression(random_state=0)"
      ]
     },
     "execution_count": 64,
     "metadata": {},
     "output_type": "execute_result"
    }
   ],
   "source": [
    "log_reg = LogisticRegression(random_state=0)\n",
    "log_reg.fit(scaled_features, ytrain)"
   ]
  },
  {
   "cell_type": "code",
   "execution_count": 65,
   "id": "b06b8d2a",
   "metadata": {},
   "outputs": [
    {
     "data": {
      "text/plain": [
       "array([0, 0, 0, ..., 0, 0, 0], dtype=int64)"
      ]
     },
     "execution_count": 65,
     "metadata": {},
     "output_type": "execute_result"
    }
   ],
   "source": [
    "y_pred = log_reg.predict(scaled_features1)\n",
    "y_pred"
   ]
  },
  {
   "cell_type": "code",
   "execution_count": 66,
   "id": "7776f410",
   "metadata": {},
   "outputs": [
    {
     "data": {
      "text/plain": [
       "6198     0\n",
       "16415    0\n",
       "24605    0\n",
       "27112    0\n",
       "19316    0\n",
       "        ..\n",
       "9854     0\n",
       "14754    0\n",
       "3049     0\n",
       "18002    0\n",
       "38821    0\n",
       "Name: Car_Cancellation, Length: 13030, dtype: int64"
      ]
     },
     "execution_count": 66,
     "metadata": {},
     "output_type": "execute_result"
    }
   ],
   "source": [
    "ytest"
   ]
  },
  {
   "cell_type": "code",
   "execution_count": 67,
   "id": "3c92d2d6",
   "metadata": {},
   "outputs": [
    {
     "data": {
      "text/plain": [
       "array([[12098,     2],\n",
       "       [  930,     0]], dtype=int64)"
      ]
     },
     "execution_count": 67,
     "metadata": {},
     "output_type": "execute_result"
    }
   ],
   "source": [
    "#confusion matrix\n",
    "from sklearn.metrics import confusion_matrix\n",
    "c_matrix = confusion_matrix(ytest, y_pred)\n",
    "c_matrix"
   ]
  },
  {
   "cell_type": "code",
   "execution_count": 68,
   "id": "abdbd3b6",
   "metadata": {},
   "outputs": [
    {
     "data": {
      "text/plain": [
       "[]"
      ]
     },
     "execution_count": 68,
     "metadata": {},
     "output_type": "execute_result"
    },
    {
     "data": {
      "image/png": "[encoded data removed]",
      "text/plain": [
       "<Figure size 800x500 with 1 Axes>"
      ]
     },
     "metadata": {},
     "output_type": "display_data"
    }
   ],
   "source": [
    "fig, ax = plt.subplots(figsize=(8,5))\n",
    "c_matrix = confusion_matrix(ytest, y_pred)\n",
    "nam = np.unique(y_pred)\n",
    "sns.heatmap(c_matrix, square = True, annot = True, fmt = 'd', cbar = False, xticklabels=nam, yticklabels=nam)\n",
    "plt.plot()"
   ]
  },
  {
   "cell_type": "code",
   "execution_count": 69,
   "id": "dbc52659",
   "metadata": {},
   "outputs": [
    {
     "name": "stdout",
     "output_type": "stream",
     "text": [
      "acc_logreg:  0.928472755180353\n"
     ]
    }
   ],
   "source": [
    "print(\"acc_logreg: \", metrics.accuracy_score(ytest, y_pred))"
   ]
  },
  {
   "cell_type": "markdown",
   "id": "fc2c5a33",
   "metadata": {},
   "source": [
    "## We can see here that the accuracy score for logistic regression is 92.8%"
   ]
  },
  {
   "cell_type": "code",
   "execution_count": null,
   "id": "52920a9e",
   "metadata": {},
   "outputs": [],
   "source": []
  },
  {
   "cell_type": "markdown",
   "id": "831d7404",
   "metadata": {},
   "source": [
    "#  Naive Bayes "
   ]
  },
  {
   "cell_type": "code",
   "execution_count": 70,
   "id": "8f915ece",
   "metadata": {},
   "outputs": [
    {
     "data": {
      "text/plain": [
       "GaussianNB()"
      ]
     },
     "execution_count": 70,
     "metadata": {},
     "output_type": "execute_result"
    }
   ],
   "source": [
    "from sklearn.naive_bayes import GaussianNB\n",
    "model = GaussianNB()\n",
    "model.fit(scaled_features, ytrain)"
   ]
  },
  {
   "cell_type": "code",
   "execution_count": 71,
   "id": "a4a0cadf",
   "metadata": {},
   "outputs": [
    {
     "data": {
      "text/plain": [
       "array([0, 0, 0, ..., 0, 0, 0], dtype=int64)"
      ]
     },
     "execution_count": 71,
     "metadata": {},
     "output_type": "execute_result"
    }
   ],
   "source": [
    "pred = model.predict(scaled_features1)\n",
    "pred"
   ]
  },
  {
   "cell_type": "code",
   "execution_count": 72,
   "id": "9bcf7b48",
   "metadata": {},
   "outputs": [
    {
     "data": {
      "text/plain": [
       "6198     0\n",
       "16415    0\n",
       "24605    0\n",
       "27112    0\n",
       "19316    0\n",
       "        ..\n",
       "9854     0\n",
       "14754    0\n",
       "3049     0\n",
       "18002    0\n",
       "38821    0\n",
       "Name: Car_Cancellation, Length: 13030, dtype: int64"
      ]
     },
     "execution_count": 72,
     "metadata": {},
     "output_type": "execute_result"
    }
   ],
   "source": [
    "ytest"
   ]
  },
  {
   "cell_type": "code",
   "execution_count": 73,
   "id": "98965f56",
   "metadata": {},
   "outputs": [
    {
     "data": {
      "text/plain": [
       "[]"
      ]
     },
     "execution_count": 73,
     "metadata": {},
     "output_type": "execute_result"
    },
    {
     "data": {
      "image/png": "[encoded data removed]",
      "text/plain": [
       "<Figure size 1000x800 with 1 Axes>"
      ]
     },
     "metadata": {},
     "output_type": "display_data"
    }
   ],
   "source": [
    "#Plotting confusion matrix\n",
    "plt.figure(figsize = (10,8))\n",
    "mat = confusion_matrix(pred, ytest)\n",
    "names = np.unique(pred)\n",
    "sns.heatmap(mat, square = True, annot = True, fmt = 'd', cbar = False, xticklabels=names, yticklabels=names)\n",
    "plt.xlabel(\"Actual\")\n",
    "plt.ylabel(\"Predicted\")\n",
    "plt.plot()"
   ]
  },
  {
   "cell_type": "code",
   "execution_count": 74,
   "id": "4e406776",
   "metadata": {},
   "outputs": [
    {
     "name": "stdout",
     "output_type": "stream",
     "text": [
      "              precision    recall  f1-score   support\n",
      "\n",
      "           0       0.94      0.93      0.94     12146\n",
      "           1       0.15      0.15      0.15       884\n",
      "\n",
      "    accuracy                           0.88     13030\n",
      "   macro avg       0.54      0.54      0.54     13030\n",
      "weighted avg       0.88      0.88      0.88     13030\n",
      "\n"
     ]
    }
   ],
   "source": [
    "print(metrics.classification_report(pred, ytest))"
   ]
  },
  {
   "cell_type": "markdown",
   "id": "9daf3e8b",
   "metadata": {},
   "source": [
    "## We can see that the accuracy score using Naive Bayes Algorithm is 88%"
   ]
  },
  {
   "cell_type": "code",
   "execution_count": null,
   "id": "3719e418",
   "metadata": {},
   "outputs": [],
   "source": []
  },
  {
   "cell_type": "markdown",
   "id": "b13c271c",
   "metadata": {},
   "source": [
    "# KNN (K-Nearest Neighbour)"
   ]
  },
  {
   "cell_type": "code",
   "execution_count": 76,
   "id": "aa1416f1",
   "metadata": {},
   "outputs": [],
   "source": [
    "from sklearn.neighbors import KNeighborsClassifier\n",
    "%matplotlib inline\n",
    "from sklearn.model_selection import cross_val_score\n",
    "import warnings;\n",
    "warnings.filterwarnings('ignore');"
   ]
  },
  {
   "cell_type": "code",
   "execution_count": 96,
   "id": "e2a04f5d",
   "metadata": {},
   "outputs": [],
   "source": [
    "#Finding best value of k\n",
    "training_acc = []\n",
    "test_acc = []\n",
    "\n",
    "\n",
    "neighbors = range(1,30)\n",
    "\n",
    "for i in neighbors:\n",
    "    knn = KNeighborsClassifier(n_neighbors = i)\n",
    "    knn.fit(scaled_features, ytrain)\n",
    "    \n",
    "    training_acc.append(knn.score(scaled_features, ytrain))\n",
    "    test_acc.append(knn.score(scaled_features1, ytest))"
   ]
  },
  {
   "cell_type": "code",
   "execution_count": 98,
   "id": "c468e97b",
   "metadata": {},
   "outputs": [
    {
     "data": {
      "text/plain": [
       "<matplotlib.legend.Legend at 0x2114fb49880>"
      ]
     },
     "execution_count": 98,
     "metadata": {},
     "output_type": "execute_result"
    },
    {
     "data": {
      "image/png": "[encoded data removed]",
      "text/plain": [
       "<Figure size 640x480 with 1 Axes>"
      ]
     },
     "metadata": {},
     "output_type": "display_data"
    }
   ],
   "source": [
    "# Plotting the graph for accuracies at various k values till 30\n",
    "plt.plot(neighbors, training_acc, label = \"Training Accuracy\")\n",
    "plt.plot(neighbors, test_acc, label = \"Testing Accuracy\")\n",
    "plt.xlabel(\"Values of K\")\n",
    "plt.ylabel(\"Accuracy Score\")\n",
    "plt.legend()"
   ]
  },
  {
   "cell_type": "code",
   "execution_count": 84,
   "id": "74c4bba4",
   "metadata": {},
   "outputs": [],
   "source": [
    "# In the above graph, we can see that testing accuracy is the highest and constant after almost 18. Here, we are taking k=21\n",
    "knn = KNeighborsClassifier(n_neighbors=21)\n",
    "knn.fit(scaled_features, ytrain)\n",
    "ycap = knn.predict(scaled_features1)"
   ]
  },
  {
   "cell_type": "code",
   "execution_count": 85,
   "id": "23ba7232",
   "metadata": {},
   "outputs": [
    {
     "name": "stdout",
     "output_type": "stream",
     "text": [
      "[[12095     5]\n",
      " [  924     6]]\n"
     ]
    }
   ],
   "source": [
    "from sklearn.metrics import classification_report, confusion_matrix\n",
    "print(confusion_matrix(ytest, ycap))"
   ]
  },
  {
   "cell_type": "code",
   "execution_count": 86,
   "id": "4c7a25c7",
   "metadata": {},
   "outputs": [
    {
     "data": {
      "text/plain": [
       "[]"
      ]
     },
     "execution_count": 86,
     "metadata": {},
     "output_type": "execute_result"
    },
    {
     "data": {
      "image/png": "[encoded data removed]",
      "text/plain": [
       "<Figure size 1000x800 with 1 Axes>"
      ]
     },
     "metadata": {},
     "output_type": "display_data"
    }
   ],
   "source": [
    "#Plotting confusion matrix heatmap\n",
    "plt.figure(figsize = (10,8))\n",
    "hmap = confusion_matrix(ytest, ycap)\n",
    "names1 = np.unique(ycap)\n",
    "sns.heatmap(hmap, square = True, annot = True, fmt = 'd', cbar = False, xticklabels=names1, yticklabels=names1)\n",
    "plt.plot()"
   ]
  },
  {
   "cell_type": "code",
   "execution_count": 87,
   "id": "542406d2",
   "metadata": {},
   "outputs": [
    {
     "name": "stdout",
     "output_type": "stream",
     "text": [
      "              precision    recall  f1-score   support\n",
      "\n",
      "           0       0.93      1.00      0.96     12100\n",
      "           1       0.55      0.01      0.01       930\n",
      "\n",
      "    accuracy                           0.93     13030\n",
      "   macro avg       0.74      0.50      0.49     13030\n",
      "weighted avg       0.90      0.93      0.90     13030\n",
      "\n"
     ]
    }
   ],
   "source": [
    "print(classification_report(ytest, ycap))"
   ]
  },
  {
   "cell_type": "markdown",
   "id": "03475b15",
   "metadata": {},
   "source": [
    "##  The accuracy score using knn(neighbors=21) is 93%"
   ]
  },
  {
   "cell_type": "code",
   "execution_count": null,
   "id": "06ff62c0",
   "metadata": {},
   "outputs": [],
   "source": []
  },
  {
   "cell_type": "markdown",
   "id": "75ee45cf",
   "metadata": {},
   "source": [
    "# Support Vector Machine (SVM)"
   ]
  },
  {
   "cell_type": "code",
   "execution_count": 88,
   "id": "a22fc3bd",
   "metadata": {},
   "outputs": [],
   "source": [
    "from sklearn.svm import SVC"
   ]
  },
  {
   "cell_type": "code",
   "execution_count": 99,
   "id": "05a62268",
   "metadata": {},
   "outputs": [],
   "source": [
    "svc = SVC()\n",
    "svc.fit(scaled_features, ytrain)\n",
    "ynew = svc.predict(scaled_features1)\n"
   ]
  },
  {
   "cell_type": "code",
   "execution_count": 93,
   "id": "7078fbad",
   "metadata": {},
   "outputs": [
    {
     "name": "stdout",
     "output_type": "stream",
     "text": [
      "For kernel: linear\n",
      "Accuracy is: 0.9286262471220261\n",
      "For kernel: rbf\n",
      "Accuracy is: 0.9286262471220261\n",
      "For kernel: poly\n",
      "Accuracy is: 0.9286262471220261\n"
     ]
    }
   ],
   "source": [
    "# Looking for best kernel\n",
    "kernel = [\"linear\", \"rbf\", \"poly\"]\n",
    "for i in kernel:\n",
    "    modl = SVC(kernel=i, C=1.0)\n",
    "    modl.fit(scaled_features, ytrain)\n",
    "    print(\"For kernel:\", i)\n",
    "    print(\"Accuracy is:\", modl.score(scaled_features1, ytest))"
   ]
  },
  {
   "cell_type": "code",
   "execution_count": null,
   "id": "aba796eb",
   "metadata": {},
   "outputs": [],
   "source": [
    "#Since accuracy rate is same for all, we can go for any kernel."
   ]
  },
  {
   "cell_type": "code",
   "execution_count": 100,
   "id": "05081e45",
   "metadata": {},
   "outputs": [
    {
     "name": "stdout",
     "output_type": "stream",
     "text": [
      "[0.9275681750318074, 0.9275681750318074, 0.9275681750318074, 0.9275681750318074, 0.9275681750318074]\n"
     ]
    }
   ],
   "source": [
    "# checking for best gamma value\n",
    "gamma_rng = [0.001, 0.01, 0.1, 1, 10]\n",
    "accsc = []\n",
    "for g in gamma_rng:\n",
    "    svc = SVC(kernel = \"linear\", gamma = g)\n",
    "    scoress = cross_val_score(svc, scaled_features, ytrain)\n",
    "    accsc.append(scoress.mean())\n",
    "print(accsc)"
   ]
  },
  {
   "cell_type": "code",
   "execution_count": null,
   "id": "425b9423",
   "metadata": {},
   "outputs": [],
   "source": [
    "#gamma value is also same so we can go for any value"
   ]
  },
  {
   "cell_type": "code",
   "execution_count": 102,
   "id": "1b6a343e",
   "metadata": {},
   "outputs": [],
   "source": [
    "svc = SVC(kernel = \"linear\", C = 1.0, gamma = 0.1)\n",
    "svc.fit(scaled_features, ytrain)\n",
    "ynew = svc.predict(scaled_features1)"
   ]
  },
  {
   "cell_type": "code",
   "execution_count": 104,
   "id": "1a3980b9",
   "metadata": {},
   "outputs": [
    {
     "data": {
      "text/plain": [
       "[]"
      ]
     },
     "execution_count": 104,
     "metadata": {},
     "output_type": "execute_result"
    },
    {
     "data": {
      "image/png": "[encoded data removed]",
      "text/plain": [
       "<Figure size 1000x800 with 1 Axes>"
      ]
     },
     "metadata": {},
     "output_type": "display_data"
    }
   ],
   "source": [
    "#Plotting confusion matrix\n",
    "plt.figure(figsize = (10,8))\n",
    "xx = confusion_matrix(ynew, ytest)\n",
    "namesl = np.unique(pred)\n",
    "sns.heatmap(xx, square = True, annot = True, fmt = 'd', cbar = False, xticklabels=namesl, yticklabels=namesl)\n",
    "plt.xlabel(\"Actual\")\n",
    "plt.ylabel(\"Predicted\")\n",
    "plt.plot()"
   ]
  },
  {
   "cell_type": "code",
   "execution_count": null,
   "id": "6122d7bb",
   "metadata": {},
   "outputs": [],
   "source": [
    "# Checking Accuracy Score"
   ]
  },
  {
   "cell_type": "code",
   "execution_count": 103,
   "id": "5d333832",
   "metadata": {},
   "outputs": [
    {
     "name": "stdout",
     "output_type": "stream",
     "text": [
      "Accuracy Score: \n",
      "0.9286262471220261\n"
     ]
    }
   ],
   "source": [
    "print(\"Accuracy Score: \")\n",
    "print(metrics.accuracy_score(ytest, ynew))"
   ]
  },
  {
   "cell_type": "markdown",
   "id": "0e940224",
   "metadata": {},
   "source": [
    "## The accuracy score using SVM is 92.8%"
   ]
  },
  {
   "cell_type": "code",
   "execution_count": null,
   "id": "fd2c6c3e",
   "metadata": {},
   "outputs": [],
   "source": []
  },
  {
   "cell_type": "markdown",
   "id": "7fb49cc1",
   "metadata": {},
   "source": [
    "# Decision Tree"
   ]
  },
  {
   "cell_type": "code",
   "execution_count": 105,
   "id": "bea0d58b",
   "metadata": {},
   "outputs": [],
   "source": [
    "from sklearn.tree import DecisionTreeClassifier"
   ]
  },
  {
   "cell_type": "code",
   "execution_count": null,
   "id": "95001595",
   "metadata": {},
   "outputs": [],
   "source": [
    "# Checking depths 2,4,6,8 for Gini"
   ]
  },
  {
   "cell_type": "code",
   "execution_count": 106,
   "id": "4207906b",
   "metadata": {},
   "outputs": [
    {
     "name": "stdout",
     "output_type": "stream",
     "text": [
      "Training Accuracy:  0.927568172099602\n",
      "Testing Accuracy:  0.9286262471220261\n"
     ]
    }
   ],
   "source": [
    "modeldt1 = DecisionTreeClassifier(max_depth=2)\n",
    "modeldt1.fit(scaled_features, ytrain)\n",
    "modeldt1.predict(scaled_features1)\n",
    "print(\"Training Accuracy: \", modeldt1.score(scaled_features,ytrain))\n",
    "print(\"Testing Accuracy: \", modeldt1.score(scaled_features1, ytest))"
   ]
  },
  {
   "cell_type": "code",
   "execution_count": 107,
   "id": "c8779e90",
   "metadata": {},
   "outputs": [
    {
     "name": "stdout",
     "output_type": "stream",
     "text": [
      "Training Accuracy:  0.9278971086477419\n",
      "Testing Accuracy:  0.9287029930928626\n"
     ]
    }
   ],
   "source": [
    "modeldt2 = DecisionTreeClassifier(max_depth=4)\n",
    "modeldt2.fit(scaled_features, ytrain)\n",
    "prediction = modeldt2.predict(scaled_features1)\n",
    "print(\"Training Accuracy: \", modeldt2.score(scaled_features,ytrain))\n",
    "print(\"Testing Accuracy: \", modeldt2.score(scaled_features1, ytest))"
   ]
  },
  {
   "cell_type": "code",
   "execution_count": 108,
   "id": "79cdfbdf",
   "metadata": {},
   "outputs": [
    {
     "name": "stdout",
     "output_type": "stream",
     "text": [
      "Training Accuracy:  0.9292128548403014\n",
      "Testing Accuracy:  0.9250191864927091\n"
     ]
    }
   ],
   "source": [
    "modeldt3 = DecisionTreeClassifier(max_depth=6)\n",
    "modeldt3.fit(scaled_features, ytrain)\n",
    "modeldt3.predict(scaled_features1)\n",
    "print(\"Training Accuracy: \", modeldt3.score(scaled_features,ytrain))\n",
    "print(\"Testing Accuracy: \", modeldt3.score(scaled_features1, ytest))"
   ]
  },
  {
   "cell_type": "code",
   "execution_count": 109,
   "id": "84d04faf",
   "metadata": {},
   "outputs": [
    {
     "name": "stdout",
     "output_type": "stream",
     "text": [
      "Training Accuracy:  0.9345416269201671\n",
      "Testing Accuracy:  0.9207214121258634\n"
     ]
    }
   ],
   "source": [
    "modeldt4 = DecisionTreeClassifier(max_depth=8)\n",
    "modeldt4.fit(scaled_features, ytrain)\n",
    "modeldt4.predict(scaled_features1)\n",
    "print(\"Training Accuracy: \", modeldt4.score(scaled_features,ytrain))\n",
    "print(\"Testing Accuracy: \", modeldt4.score(scaled_features1, ytest))"
   ]
  },
  {
   "cell_type": "code",
   "execution_count": null,
   "id": "523179dc",
   "metadata": {},
   "outputs": [],
   "source": []
  },
  {
   "cell_type": "code",
   "execution_count": null,
   "id": "4bda4f87",
   "metadata": {},
   "outputs": [],
   "source": [
    "# Checking depths 2,4,6,8 for Entropy"
   ]
  },
  {
   "cell_type": "code",
   "execution_count": 110,
   "id": "cb006119",
   "metadata": {},
   "outputs": [
    {
     "name": "stdout",
     "output_type": "stream",
     "text": [
      "Training Accuracy:  0.927568172099602\n",
      "Testing Accuracy:  0.9286262471220261\n"
     ]
    }
   ],
   "source": [
    "modeldt1e = DecisionTreeClassifier(max_depth=2, criterion=\"entropy\")\n",
    "modeldt1e.fit(scaled_features, ytrain)\n",
    "modeldt1e.predict(scaled_features1)\n",
    "print(\"Training Accuracy: \", modeldt1e.score(scaled_features, ytrain))\n",
    "print(\"Testing Accuracy: \", modeldt1e.score(scaled_features1, ytest))"
   ]
  },
  {
   "cell_type": "code",
   "execution_count": 111,
   "id": "856d61e5",
   "metadata": {},
   "outputs": [
    {
     "name": "stdout",
     "output_type": "stream",
     "text": [
      "Training Accuracy:  0.9278313213381139\n",
      "Testing Accuracy:  0.9286262471220261\n"
     ]
    }
   ],
   "source": [
    "modeldt2e = DecisionTreeClassifier(max_depth=4, criterion=\"entropy\")\n",
    "modeldt2e.fit(scaled_features, ytrain)\n",
    "modeldt2e.predict(scaled_features1)\n",
    "print(\"Training Accuracy: \", modeldt2e.score(scaled_features, ytrain))\n",
    "print(\"Testing Accuracy: \", modeldt2e.score(scaled_features1, ytest))"
   ]
  },
  {
   "cell_type": "code",
   "execution_count": 112,
   "id": "40b568b9",
   "metadata": {},
   "outputs": [
    {
     "name": "stdout",
     "output_type": "stream",
     "text": [
      "Training Accuracy:  0.9285878753988356\n",
      "Testing Accuracy:  0.9279355333844973\n"
     ]
    }
   ],
   "source": [
    "modeldt3e = DecisionTreeClassifier(max_depth=6, criterion=\"entropy\")\n",
    "modeldt3e.fit(scaled_features, ytrain)\n",
    "modeldt3e.predict(scaled_features1)\n",
    "print(\"Training Accuracy: \", modeldt3e.score(scaled_features, ytrain))\n",
    "print(\"Testing Accuracy: \", modeldt3e.score(scaled_features1, ytest))"
   ]
  },
  {
   "cell_type": "code",
   "execution_count": 113,
   "id": "7ea80b7a",
   "metadata": {},
   "outputs": [
    {
     "name": "stdout",
     "output_type": "stream",
     "text": [
      "Training Accuracy:  0.9332916680372356\n",
      "Testing Accuracy:  0.9202609363008442\n"
     ]
    }
   ],
   "source": [
    "modeldt4e = DecisionTreeClassifier(max_depth=8, criterion=\"entropy\")\n",
    "modeldt4e.fit(scaled_features, ytrain)\n",
    "modeldt4e.predict(scaled_features1)\n",
    "print(\"Training Accuracy: \", modeldt4e.score(scaled_features, ytrain))\n",
    "print(\"Testing Accuracy: \", modeldt4e.score(scaled_features1, ytest))"
   ]
  },
  {
   "cell_type": "code",
   "execution_count": null,
   "id": "b0559c9e",
   "metadata": {},
   "outputs": [],
   "source": [
    "# Here we are getting almost 92% accuracy for testing data for each value of gini and entropy (with different depths).\n",
    "# We will go for gini, depth = 4"
   ]
  },
  {
   "cell_type": "code",
   "execution_count": 114,
   "id": "f5380f97",
   "metadata": {},
   "outputs": [
    {
     "name": "stdout",
     "output_type": "stream",
     "text": [
      "[[12095     5]\n",
      " [  924     6]]\n"
     ]
    }
   ],
   "source": [
    "print(confusion_matrix(ytest, prediction))"
   ]
  },
  {
   "cell_type": "code",
   "execution_count": 115,
   "id": "411af14c",
   "metadata": {},
   "outputs": [
    {
     "data": {
      "text/plain": [
       "[]"
      ]
     },
     "execution_count": 115,
     "metadata": {},
     "output_type": "execute_result"
    },
    {
     "data": {
      "image/png": "[encoded data removed]",
      "text/plain": [
       "<Figure size 800x500 with 1 Axes>"
      ]
     },
     "metadata": {},
     "output_type": "display_data"
    }
   ],
   "source": [
    "fig, ax = plt.subplots(figsize=(8,5))\n",
    "c_matrix12 = confusion_matrix(ytest, prediction)\n",
    "nam11 = np.unique(prediction)\n",
    "sns.heatmap(c_matrix12, square = True, annot = True, fmt = 'd', cbar = False, xticklabels=nam11, yticklabels=nam11)\n",
    "plt.plot()"
   ]
  },
  {
   "cell_type": "markdown",
   "id": "b3db3869",
   "metadata": {},
   "source": [
    "## For Decision Tree Algorithm, we are getting 92.8% testing accuracy"
   ]
  },
  {
   "cell_type": "code",
   "execution_count": null,
   "id": "e0df58dc",
   "metadata": {},
   "outputs": [],
   "source": []
  },
  {
   "cell_type": "markdown",
   "id": "5f27da3b",
   "metadata": {},
   "source": [
    "### KNN gives us the highest accuracy score at 93%. So we will go for KNN for this particular dataset."
   ]
  },
  {
   "cell_type": "code",
   "execution_count": null,
   "id": "74777e6d",
   "metadata": {},
   "outputs": [],
   "source": []
  },
  {
   "cell_type": "code",
   "execution_count": 116,
   "id": "6547538b",
   "metadata": {},
   "outputs": [
    {
     "data": {
      "text/plain": [
       "array([0], dtype=int64)"
      ]
     },
     "execution_count": 116,
     "metadata": {},
     "output_type": "execute_result"
    }
   ],
   "source": [
    "# We will give the inputs (from final dataset features) to check the prediction\n",
    "\n",
    "ipdata = (12,2,393.0,0,0,13.199560,77.706880,6.667)\n",
    "ipdataarray = np.asarray(ipdata)   #coverting to a numpy array\n",
    "ipdatareshaped = ipdataarray.reshape(1,-1)    #reshaping\n",
    "res = knn.predict(ipdatareshaped)\n",
    "res"
   ]
  },
  {
   "cell_type": "code",
   "execution_count": 118,
   "id": "b8913732",
   "metadata": {},
   "outputs": [
    {
     "name": "stdout",
     "output_type": "stream",
     "text": [
      "Prediction says: The booking will not be cancelled\n"
     ]
    }
   ],
   "source": [
    "if (res[0] == 0):\n",
    "    print(\"Prediction says: The booking will not be cancelled\")\n",
    "    \n",
    "else:\n",
    "    print(\"Prediction says: The booking will be cancelled\")"
   ]
  },
  {
   "cell_type": "code",
   "execution_count": null,
   "id": "14db9b93",
   "metadata": {},
   "outputs": [],
   "source": []
  },
  {
   "cell_type": "markdown",
   "id": "918c5f08",
   "metadata": {},
   "source": [
    "# This completes the project."
   ]
  }
 ],
 "metadata": {
  "kernelspec": {
   "display_name": "Python 3 (ipykernel)",
   "language": "python",
   "name": "python3"
  },
  "language_info": {
   "codemirror_mode": {
    "name": "ipython",
    "version": 3
   },
   "file_extension": ".py",
   "mimetype": "text/x-python",
   "name": "python",
   "nbconvert_exporter": "python",
   "pygments_lexer": "ipython3",
   "version": "3.9.13"
  }
 },
 "nbformat": 4,
 "nbformat_minor": 5
}
